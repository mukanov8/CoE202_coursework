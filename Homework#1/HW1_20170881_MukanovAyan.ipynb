{
  "nbformat": 4,
  "nbformat_minor": 0,
  "metadata": {
    "colab": {
      "name": "HW1_20170881_MukanovAyan.ipynb",
      "provenance": []
    },
    "kernelspec": {
      "name": "python3",
      "display_name": "Python 3"
    }
  },
  "cells": [
    {
      "cell_type": "code",
      "metadata": {
        "id": "-qsPv9_aPuFy",
        "colab_type": "code",
        "colab": {}
      },
      "source": [
        "import numpy as np\n",
        "import matplotlib.pyplot as plt\n",
        "from sklearn.linear_model import LinearRegression\n",
        "from scipy import linalg\n",
        "from sklearn.metrics import mean_squared_error\n",
        "from sklearn.model_selection import train_test_split\n",
        "\n",
        "m = 10000\n",
        "X1 = 6 * np.random.rand(m, 1)-3\n",
        "X2 = 6 * np.random.rand(m, 1)-3\n",
        "X3 = 6 * np.random.rand(m, 1)-3\n",
        "y = 2.0 + 1.0*X1 + 0.5*X1**2 + 0.25*X1**3 + 0.5*X2**2 +np.random.randn(m, 1) \n",
        "#X_new = np.array([[0], [2]])\n",
        "X = np.asarray(list(zip(X1.reshape(-1), X2.reshape(-1), X3.reshape(-1))))\n",
        " \n",
        "from sklearn.preprocessing import PolynomialFeatures \n",
        "poly_features = PolynomialFeatures(degree=5) \n",
        "X_poly = poly_features.fit_transform(X)"
      ],
      "execution_count": 0,
      "outputs": []
    },
    {
      "cell_type": "code",
      "metadata": {
        "id": "ra3FyZEOcDZ8",
        "colab_type": "code",
        "colab": {
          "base_uri": "https://localhost:8080/",
          "height": 1000
        },
        "outputId": "85a6ad81-ed1d-4cd0-82ba-d04a72039c14"
      },
      "source": [
        "#1. Split the data into a training set of first 8,000 instances, \n",
        "#a validation set of the next 1,000 instances, and a test set of the rest 1,000 instances.\n",
        "X_train, X_test,y_train,y_test = train_test_split(X_poly, y, test_size=0.2)\n",
        "X_test, X_val, y_test, y_val = train_test_split(X_test, y_test, test_size = 0.5)\n",
        "\n",
        "#3. Obtain the optimal values of the model parameters by directly evaluating the \n",
        "#normal equation for plain polynomial regression (no regularization). \n",
        "#In addition, apply the trained model to the test set and evaluate the RMSE.\n",
        "def RMSE_calculation(param1, param2):\n",
        "    mse = mean_squared_error(param1, param2)\n",
        "    rmse = np.sqrt(mse)\n",
        "    return rmse\n",
        "  \n",
        "rgs=np.dot(np.dot(linalg.inv(np.dot(X_train.T,X_train)),X_train.T),y_train)\n",
        "# target value predicted from our model\n",
        "train_final_predictions = np.dot(X_train,rgs)\n",
        "test_final_predictions = X_test.dot(rgs)\n",
        "# RMSE\n",
        "train_final_rmse = RMSE_calculation(y_train, train_final_predictions)\n",
        "test_final_rmse = RMSE_calculation(y_test, test_final_predictions)\n",
        "\n",
        "print('LinReg: train_RMSE : %.2f , test_RMSE : %.2f' %(train_final_rmse, test_final_rmse))\n",
        "\n",
        "#4. Repeat Problem 3 for ridge polynomial regression \n",
        "#(use the closed-form solution for ridge regression).\n",
        "W=np.identity(len(X_train[0]))\n",
        "W[0][0]=0\n",
        "rdg=np.dot(np.dot(linalg.inv(np.dot(X_train.T,X_train)+4*W),X_train.T),y_train)\n",
        "print(\"RidgeReg:\",rdg)\n",
        "# target value predicted from our model\n",
        "train_final_predictions = X_train.dot(rdg)\n",
        "test_final_predictions = X_test.dot(rdg)\n",
        "# RMSE\n",
        "train_final_rmse = RMSE_calculation(y_train, train_final_predictions)\n",
        "test_final_rmse = RMSE_calculation(y_test, test_final_predictions)\n",
        "\n",
        "print('RidgeReg: train_RMSE : %.2f , test_RMSE : %.2f' %(train_final_rmse, test_final_rmse))\n",
        "\n",
        "\n",
        "\n",
        "\n"
      ],
      "execution_count": 24,
      "outputs": [
        {
          "output_type": "stream",
          "text": [
            "LinReg: train_RMSE : 0.99 , test_RMSE : 1.01\n",
            "RidgeReg: [[ 1.95707235e+00]\n",
            " [ 9.74237773e-01]\n",
            " [-8.34751888e-04]\n",
            " [ 3.66046859e-04]\n",
            " [ 4.98484174e-01]\n",
            " [-2.51192845e-02]\n",
            " [-4.31426529e-03]\n",
            " [ 5.09179142e-01]\n",
            " [-5.77596527e-03]\n",
            " [ 2.46289215e-02]\n",
            " [ 2.46328802e-01]\n",
            " [ 1.34102880e-02]\n",
            " [-9.47933470e-03]\n",
            " [ 9.09215460e-03]\n",
            " [ 6.96594290e-04]\n",
            " [-3.91746987e-03]\n",
            " [ 1.04808251e-02]\n",
            " [-9.26994774e-03]\n",
            " [-1.15477996e-02]\n",
            " [ 4.78764674e-03]\n",
            " [ 1.01970120e-03]\n",
            " [ 2.19314371e-03]\n",
            " [ 7.37726594e-04]\n",
            " [-1.46345252e-03]\n",
            " [-2.40225136e-03]\n",
            " [-1.60644323e-03]\n",
            " [ 2.84213412e-03]\n",
            " [-3.69082951e-04]\n",
            " [ 8.86581819e-04]\n",
            " [ 1.08561976e-04]\n",
            " [-1.07640079e-03]\n",
            " [ 3.22754552e-04]\n",
            " [ 6.26787718e-04]\n",
            " [ 1.82179614e-03]\n",
            " [-2.85239723e-03]\n",
            " [ 4.21464798e-04]\n",
            " [-2.34002902e-03]\n",
            " [ 9.01193294e-04]\n",
            " [-1.31112550e-03]\n",
            " [-2.30343284e-04]\n",
            " [ 2.90479273e-03]\n",
            " [ 4.90698485e-04]\n",
            " [-8.21233218e-04]\n",
            " [-9.58478348e-05]\n",
            " [ 7.56136915e-04]\n",
            " [ 4.98703182e-04]\n",
            " [-1.75312096e-04]\n",
            " [-9.49790627e-04]\n",
            " [ 4.49253434e-05]\n",
            " [-6.60988948e-04]\n",
            " [-1.48380829e-03]\n",
            " [ 1.27917085e-03]\n",
            " [ 1.01578546e-03]\n",
            " [ 6.17160555e-04]\n",
            " [ 1.19877470e-04]\n",
            " [-6.41711795e-04]]\n",
            "RidgeReg: train_RMSE : 0.99 , test_RMSE : 1.01\n"
          ],
          "name": "stdout"
        }
      ]
    },
    {
      "cell_type": "code",
      "metadata": {
        "id": "eWn9AXHNj33v",
        "colab_type": "code",
        "colab": {
          "base_uri": "https://localhost:8080/",
          "height": 208
        },
        "outputId": "c4389a4d-672d-470b-c49b-2c7b560e0c9f"
      },
      "source": [
        "#5. We now use the mini-batch GD with mini-batch size 100. Apply the plain polynomial regression, \n",
        "#and draw the corresponding learning curves of this model for the training and validation sets,\n",
        "#showing the RMSE against the number of epochs. In addition, apply the trained model to the test \n",
        "#set and evaluate the RMSE.\n",
        "train_num = X_train.shape[0]\n",
        "feature_num = X_train.shape[1]\n",
        "theta = np.random.randn(feature_num,1)\n",
        "\n",
        "GD_train_rmse = []\n",
        "GD_val_rmse = []\n",
        "\n",
        "GD_batch_train_rmse = []\n",
        "GD_batch_val_rmse = []\n",
        "\n",
        "initialized_theta_train_RMSE = RMSE_calculation(np.dot(X_train,theta), y_train)\n",
        "initialized_theta_val_RMSE = RMSE_calculation(np.dot(X_test,theta), y_test)\n",
        "\n",
        "GD_train_rmse.append(initialized_theta_train_RMSE)\n",
        "GD_val_rmse.append(initialized_theta_val_RMSE)\n",
        "GD_batch_train_rmse.append(initialized_theta_train_RMSE)\n",
        "GD_batch_val_rmse.append(initialized_theta_val_RMSE)\n",
        "print('RMSE of the initialized theta - train_RMSE : %.2f, val_RMSE : %.2f' %(initialized_theta_train_RMSE, initialized_theta_val_RMSE))\n",
        "\n",
        "#execute the mini-batch GD\n",
        "batch_size = 100\n",
        "n_epoch = 100\n",
        "eta = 0.00005\n",
        "for epoch in range(n_epoch):\n",
        "    # shuffle\n",
        "    shuffle_indices = np.random.permutation(train_num)\n",
        "    feature_shuffled = X_train[shuffle_indices,:]\n",
        "    target_shuffled = y_train[shuffle_indices,:]\n",
        "    for i in range(0, train_num, batch_size):\n",
        "        batch_x = feature_shuffled[i:i+batch_size,:]\n",
        "        batch_y = target_shuffled[i:i+batch_size,:]\n",
        "        gradient = 2.0/batch_size * np.dot(batch_x.T , np.dot(batch_x, theta) - batch_y)\n",
        "        theta = theta - eta * gradient\n",
        "        # train error after batch update \n",
        "        train_batch_predictions = np.dot(X_train, theta)\n",
        "        train_batch_rmse = RMSE_calculation(y_train, train_batch_predictions)\n",
        "        GD_batch_train_rmse.append(train_batch_rmse)\n",
        "        # test error after batch update\n",
        "        val_batch_predictions = np.dot(X_test, theta)\n",
        "        val_batch_rmse = RMSE_calculation(y_test, val_batch_predictions)\n",
        "        GD_batch_val_rmse.append(val_batch_rmse)  \n",
        "    # train error after epoch \n",
        "    GD_train_predictions = np.dot(X_train, theta)\n",
        "    GD_train_final_rmse = RMSE_calculation(y_train, GD_train_predictions)\n",
        "    GD_train_rmse.append(GD_train_final_rmse)\n",
        "    # val error after epoch \n",
        "    GD_val_predictions = np.dot(X_val, theta)\n",
        "    GD_val_final_rmse = RMSE_calculation(y_val, GD_val_predictions)\n",
        "    GD_val_rmse.append(GD_val_final_rmse)\n",
        "    \n",
        "    if epoch%10 == 0:\n",
        "        print('%d번째 train_RMSE : %.2f, val_RMSE : %.2f' %(epoch, GD_train_final_rmse, GD_val_final_rmse))\n",
        "        \n",
        "\n"
      ],
      "execution_count": 25,
      "outputs": [
        {
          "output_type": "stream",
          "text": [
            "RMSE of the initialized theta - train_RMSE : 223.58, val_RMSE : 210.72\n",
            "0번째 train_RMSE : 19.81, val_RMSE : 19.64\n",
            "10번째 train_RMSE : 5.50, val_RMSE : 5.57\n",
            "20번째 train_RMSE : 4.44, val_RMSE : 4.53\n",
            "30번째 train_RMSE : 4.27, val_RMSE : 4.18\n",
            "40번째 train_RMSE : 3.50, val_RMSE : 3.55\n",
            "50번째 train_RMSE : 3.48, val_RMSE : 3.43\n",
            "60번째 train_RMSE : 3.01, val_RMSE : 3.06\n",
            "70번째 train_RMSE : 2.82, val_RMSE : 2.83\n",
            "80번째 train_RMSE : 2.63, val_RMSE : 2.62\n",
            "90번째 train_RMSE : 2.47, val_RMSE : 2.54\n"
          ],
          "name": "stdout"
        }
      ]
    },
    {
      "cell_type": "markdown",
      "metadata": {
        "id": "AJV7IvLXlp73",
        "colab_type": "text"
      },
      "source": [
        ""
      ]
    },
    {
      "cell_type": "code",
      "metadata": {
        "id": "yaaPRujHY66E",
        "colab_type": "code",
        "colab": {
          "base_uri": "https://localhost:8080/",
          "height": 300
        },
        "outputId": "8500e098-0605-4062-9678-2aaaeb7f2c2c"
      },
      "source": [
        "#Check for changes of RMSE as epoch increases.       \n",
        "plt.plot(GD_train_rmse, \"r+\", linewidth=2, label=\"train\")\n",
        "plt.plot(GD_val_rmse, \"b-\", linewidth=3, label=\"val\")\n",
        "plt.legend(loc='upper right')\n",
        "plt.xlabel('epoch')\n",
        "plt.ylabel('RMSE')"
      ],
      "execution_count": 26,
      "outputs": [
        {
          "output_type": "execute_result",
          "data": {
            "text/plain": [
              "Text(0, 0.5, 'RMSE')"
            ]
          },
          "metadata": {
            "tags": []
          },
          "execution_count": 26
        },
        {
          "output_type": "display_data",
          "data": {
            "image/png": "[encoded data removed]",
            "text/plain": [
              "<Figure size 432x288 with 1 Axes>"
            ]
          },
          "metadata": {
            "tags": []
          }
        }
      ]
    },
    {
      "cell_type": "code",
      "metadata": {
        "id": "nyVzogGzl280",
        "colab_type": "code",
        "colab": {
          "base_uri": "https://localhost:8080/",
          "height": 300
        },
        "outputId": "d4abe549-febb-47ca-eb45-14d0ee39895c"
      },
      "source": [
        "#Check for changes of RMSE as the number of updates increases.\n",
        "plt.plot(GD_batch_train_rmse, \"r+\", linewidth=2, label=\"train\")\n",
        "plt.plot(GD_batch_val_rmse, \"b-\", linewidth=3, label=\"val\")\n",
        "plt.legend(loc='upper right')\n",
        "plt.xlabel('updates')\n",
        "plt.ylabel('RMSE')"
      ],
      "execution_count": 27,
      "outputs": [
        {
          "output_type": "execute_result",
          "data": {
            "text/plain": [
              "Text(0, 0.5, 'RMSE')"
            ]
          },
          "metadata": {
            "tags": []
          },
          "execution_count": 27
        },
        {
          "output_type": "display_data",
          "data": {
            "image/png": "[encoded data removed]",
            "text/plain": [
              "<Figure size 432x288 with 1 Axes>"
            ]
          },
          "metadata": {
            "tags": []
          }
        }
      ]
    },
    {
      "cell_type": "code",
      "metadata": {
        "id": "prgQthZ8l7lm",
        "colab_type": "code",
        "colab": {
          "base_uri": "https://localhost:8080/",
          "height": 208
        },
        "outputId": "68b9fa21-c781-4609-cf31-ecc55d7994de"
      },
      "source": [
        "#6. Repeat Problem 5 for ridge polynomial regression. \n",
        "#Adjust the hyperparameter 𝛼 to obtain the best results.\n",
        "\n",
        "theta = np.random.randn(feature_num,1)\n",
        "theta_bkp = theta # back-up the theta values\n",
        "\n",
        "GD_train_rmse = []\n",
        "GD_val_rmse = []\n",
        "\n",
        "GD_batch_train_rmse = []\n",
        "GD_batch_val_rmse = []\n",
        "\n",
        "initialized_theta_train_RMSE = RMSE_calculation(np.dot(X_train,theta), y_train)\n",
        "initialized_theta_val_RMSE = RMSE_calculation(np.dot(X_test,theta), y_test)\n",
        "\n",
        "GD_train_rmse.append(initialized_theta_train_RMSE)\n",
        "GD_val_rmse.append(initialized_theta_val_RMSE)\n",
        "GD_batch_train_rmse.append(initialized_theta_train_RMSE)\n",
        "GD_batch_val_rmse.append(initialized_theta_val_RMSE)\n",
        "\n",
        "print('RMSE of the initialized theta - train_RMSE : %.2f, val_RMSE : %.2f' %(initialized_theta_train_RMSE, initialized_theta_val_RMSE))\n",
        "\n",
        "#execute the mini-batch GD for ridge reg.\n",
        "lamda= 204\n",
        "batch_size = 100\n",
        "n_epoch = 100\n",
        "eta1 = 0.00016\n",
        "\n",
        "for epoch in range(n_epoch):\n",
        "    \n",
        "    # shuffle\n",
        "    shuffle_indices = np.random.permutation(train_num)\n",
        "    feature_shuffled = X_train[shuffle_indices,:]\n",
        "    target_shuffled = y_train[shuffle_indices,:]\n",
        "    \n",
        "    for i in range(0, train_num, batch_size):\n",
        "        batch_x = feature_shuffled[i:i+batch_size,:]\n",
        "        batch_y = target_shuffled[i:i+batch_size,:]\n",
        "        intheta=theta\n",
        "        intheta[0][0]=0\n",
        "        theta = theta - eta1 * (1/batch_size)*((batch_x.T @((np.dot(batch_x,theta))-batch_y)) + lamda * intheta )\n",
        "        \n",
        "        # train error after batch update \n",
        "        train_batch_predictions = np.dot(X_train, theta)\n",
        "        train_batch_rmse = RMSE_calculation(y_train, train_batch_predictions)\n",
        "        GD_batch_train_rmse.append(train_batch_rmse)\n",
        "        \n",
        "        # test error after batch update\n",
        "        val_batch_predictions = np.dot(X_test, theta)\n",
        "        val_batch_rmse = RMSE_calculation(y_test, val_batch_predictions)\n",
        "        GD_batch_val_rmse.append(val_batch_rmse)\n",
        "        \n",
        "    # train error after epoch \n",
        "    GD_train_predictions = np.dot(X_train, theta)\n",
        "    GD_train_final_rmse = RMSE_calculation(y_train, GD_train_predictions)\n",
        "    GD_train_rmse.append(GD_train_final_rmse)\n",
        "    \n",
        "    # val error after epoch \n",
        "    GD_val_predictions = np.dot(X_val, theta)\n",
        "    GD_val_final_rmse = RMSE_calculation(y_val, GD_val_predictions)\n",
        "    GD_val_rmse.append(GD_val_final_rmse)\n",
        "    \n",
        "    if epoch%10 == 0:\n",
        "        print('%d번째 train_RMSE : %.2f, val_RMSE : %.2f' %(epoch, GD_train_final_rmse, GD_val_final_rmse))\n",
        "\n",
        "\n",
        "\n",
        "#####################################################\n",
        "\n",
        "\n"
      ],
      "execution_count": 111,
      "outputs": [
        {
          "output_type": "stream",
          "text": [
            "RMSE of the initialized theta - train_RMSE : 328.00, val_RMSE : 303.83\n",
            "0번째 train_RMSE : 14.90, val_RMSE : 14.23\n",
            "10번째 train_RMSE : 3.38, val_RMSE : 3.34\n",
            "20번째 train_RMSE : 2.14, val_RMSE : 2.13\n",
            "30번째 train_RMSE : 1.87, val_RMSE : 1.91\n",
            "40번째 train_RMSE : 1.93, val_RMSE : 1.90\n",
            "50번째 train_RMSE : 1.61, val_RMSE : 1.67\n",
            "60번째 train_RMSE : 1.63, val_RMSE : 1.65\n",
            "70번째 train_RMSE : 1.56, val_RMSE : 1.61\n",
            "80번째 train_RMSE : 1.55, val_RMSE : 1.60\n",
            "90번째 train_RMSE : 1.59, val_RMSE : 1.64\n"
          ],
          "name": "stdout"
        }
      ]
    },
    {
      "cell_type": "code",
      "metadata": {
        "id": "rEAL7EZgmDB4",
        "colab_type": "code",
        "colab": {
          "base_uri": "https://localhost:8080/",
          "height": 300
        },
        "outputId": "42430180-49ce-4a15-f3ae-7f5026237753"
      },
      "source": [
        "#Check for changes of RMSE as epoch increases.       \n",
        "plt.plot(GD_train_rmse, \"r+\", linewidth=2, label=\"train\")\n",
        "plt.plot(GD_val_rmse, \"b-\", linewidth=3, label=\"val\")\n",
        "plt.legend(loc='upper right')\n",
        "plt.xlabel('epoch')\n",
        "plt.ylabel('RMSE')\n"
      ],
      "execution_count": 113,
      "outputs": [
        {
          "output_type": "execute_result",
          "data": {
            "text/plain": [
              "Text(0, 0.5, 'RMSE')"
            ]
          },
          "metadata": {
            "tags": []
          },
          "execution_count": 113
        },
        {
          "output_type": "display_data",
          "data": {
            "image/png": "[encoded data removed]",
            "text/plain": [
              "<Figure size 432x288 with 1 Axes>"
            ]
          },
          "metadata": {
            "tags": []
          }
        }
      ]
    },
    {
      "cell_type": "code",
      "metadata": {
        "id": "j0H4589knxrM",
        "colab_type": "code",
        "colab": {
          "base_uri": "https://localhost:8080/",
          "height": 300
        },
        "outputId": "fadf2727-efe5-4497-822f-865635222221"
      },
      "source": [
        "#Check for changes of RMSE as the number of updates increases.\n",
        "plt.plot(GD_batch_train_rmse, \"r+\", linewidth=2, label=\"train\")\n",
        "plt.plot(GD_batch_val_rmse, \"b-\", linewidth=3, label=\"val\")\n",
        "plt.legend(loc='upper right')\n",
        "plt.xlabel('updates')\n",
        "plt.ylabel('RMSE')\n"
      ],
      "execution_count": 112,
      "outputs": [
        {
          "output_type": "execute_result",
          "data": {
            "text/plain": [
              "Text(0, 0.5, 'RMSE')"
            ]
          },
          "metadata": {
            "tags": []
          },
          "execution_count": 112
        },
        {
          "output_type": "display_data",
          "data": {
            "image/png": "[encoded data removed]",
            "text/plain": [
              "<Figure size 432x288 with 1 Axes>"
            ]
          },
          "metadata": {
            "tags": []
          }
        }
      ]
    },
    {
      "cell_type": "code",
      "metadata": {
        "id": "XqG_mt51n-Av",
        "colab_type": "code",
        "colab": {
          "base_uri": "https://localhost:8080/",
          "height": 208
        },
        "outputId": "4049d381-1a7e-4bc7-e6f7-2a6758d2d467"
      },
      "source": [
        "#7. Repeat Problem 6 for lasso polynomial regression.  \n",
        "#Adjust the hyperparameter 𝛼 to obtain the best results.\n",
        "theta = np.random.randn(feature_num,1)\n",
        "theta_bkp = theta # back-up the theta values\n",
        "\n",
        "GD_train_rmse = []\n",
        "GD_val_rmse = []\n",
        "\n",
        "GD_batch_train_rmse = []\n",
        "GD_batch_val_rmse = []\n",
        "\n",
        "initialized_theta_train_RMSE = RMSE_calculation(np.dot(X_train,theta), y_train)\n",
        "initialized_theta_val_RMSE = RMSE_calculation(np.dot(X_test,theta), y_test)\n",
        "\n",
        "GD_train_rmse.append(initialized_theta_train_RMSE)\n",
        "GD_val_rmse.append(initialized_theta_val_RMSE)\n",
        "GD_batch_train_rmse.append(initialized_theta_train_RMSE)\n",
        "GD_batch_val_rmse.append(initialized_theta_val_RMSE)\n",
        "\n",
        "print('RMSE of the initialized theta - train_RMSE : %.2f, val_RMSE : %.2f' %(initialized_theta_train_RMSE, initialized_theta_val_RMSE))\n",
        "\n",
        "#execute the mini-batch GD for lasso reg.\n",
        "lamda= 26\n",
        "batch_size = 100\n",
        "n_epoch = 100\n",
        "eta2 = 0.00007 #learning rate\n",
        "\n",
        "for epoch in range(n_epoch):\n",
        "    \n",
        "    # shuffle\n",
        "    shuffle_indices = np.random.permutation(train_num)\n",
        "    feature_shuffled = X_train[shuffle_indices,:]\n",
        "    target_shuffled = y_train[shuffle_indices,:]\n",
        "    \n",
        "    for i in range(0, train_num, batch_size):\n",
        "        batch_x = feature_shuffled[i:i+batch_size,:]\n",
        "        batch_y = target_shuffled[i:i+batch_size,:]\n",
        "        intheta=theta\n",
        "        intheta[0][0]=0\n",
        "        theta = theta - eta2*2/batch_size*(batch_x.T.dot(batch_x.dot(theta)-batch_y) + lamda*np.sign(intheta))\n",
        "        \n",
        "        # train error after batch update \n",
        "        train_batch_predictions = np.dot(X_train, theta)\n",
        "        train_batch_rmse = RMSE_calculation(y_train, train_batch_predictions)\n",
        "        GD_batch_train_rmse.append(train_batch_rmse)\n",
        "        \n",
        "        # test error after batch update\n",
        "        val_batch_predictions = np.dot(X_test, theta)\n",
        "        val_batch_rmse = RMSE_calculation(y_test, val_batch_predictions)\n",
        "        GD_batch_val_rmse.append(val_batch_rmse)\n",
        "        \n",
        "    # train error after epoch \n",
        "    GD_train_predictions = np.dot(X_train, theta)\n",
        "    GD_train_final_rmse = RMSE_calculation(y_train, GD_train_predictions)\n",
        "    GD_train_rmse.append(GD_train_final_rmse)\n",
        "    \n",
        "    # val error after epoch \n",
        "    GD_val_predictions = np.dot(X_val, theta)\n",
        "    GD_val_final_rmse = RMSE_calculation(y_val, GD_val_predictions)\n",
        "    GD_val_rmse.append(GD_val_final_rmse)\n",
        "    \n",
        "    if epoch%10 == 0:\n",
        "        print('%d번째 train_RMSE : %.2f, val_RMSE : %.2f' %(epoch, GD_train_final_rmse, GD_val_final_rmse))"
      ],
      "execution_count": 70,
      "outputs": [
        {
          "output_type": "stream",
          "text": [
            "RMSE of the initialized theta - train_RMSE : 166.91, val_RMSE : 164.62\n",
            "0번째 train_RMSE : 14.77, val_RMSE : 14.41\n",
            "10번째 train_RMSE : 3.92, val_RMSE : 3.80\n",
            "20번째 train_RMSE : 3.12, val_RMSE : 3.13\n",
            "30번째 train_RMSE : 2.64, val_RMSE : 2.60\n",
            "40번째 train_RMSE : 2.39, val_RMSE : 2.35\n",
            "50번째 train_RMSE : 2.17, val_RMSE : 2.20\n",
            "60번째 train_RMSE : 1.80, val_RMSE : 1.79\n",
            "70번째 train_RMSE : 1.63, val_RMSE : 1.64\n",
            "80번째 train_RMSE : 1.52, val_RMSE : 1.52\n",
            "90번째 train_RMSE : 1.43, val_RMSE : 1.44\n"
          ],
          "name": "stdout"
        }
      ]
    },
    {
      "cell_type": "code",
      "metadata": {
        "id": "KsTGIiFKqg1R",
        "colab_type": "code",
        "colab": {
          "base_uri": "https://localhost:8080/",
          "height": 300
        },
        "outputId": "1f790f8e-e7a4-4cd0-ae02-216658d10b75"
      },
      "source": [
        "#Check for changes of RMSE as epoch increases.       \n",
        "plt.plot(GD_train_rmse, \"r+\", linewidth=2, label=\"train\")\n",
        "plt.plot(GD_val_rmse, \"b-\", linewidth=3, label=\"val\")\n",
        "plt.legend(loc='upper right')\n",
        "plt.xlabel('epoch')\n",
        "plt.ylabel('RMSE')"
      ],
      "execution_count": 71,
      "outputs": [
        {
          "output_type": "execute_result",
          "data": {
            "text/plain": [
              "Text(0, 0.5, 'RMSE')"
            ]
          },
          "metadata": {
            "tags": []
          },
          "execution_count": 71
        },
        {
          "output_type": "display_data",
          "data": {
            "image/png": "[encoded data removed]",
            "text/plain": [
              "<Figure size 432x288 with 1 Axes>"
            ]
          },
          "metadata": {
            "tags": []
          }
        }
      ]
    },
    {
      "cell_type": "code",
      "metadata": {
        "id": "qv5OekAWrJ2U",
        "colab_type": "code",
        "colab": {
          "base_uri": "https://localhost:8080/",
          "height": 300
        },
        "outputId": "72357031-92a9-4b89-debc-37c2b8f57a19"
      },
      "source": [
        "#Check for changes of RMSE as the number of updates increases.\n",
        "plt.plot(GD_batch_train_rmse, \"r+\", linewidth=2, label=\"train\")\n",
        "plt.plot(GD_batch_val_rmse, \"b-\", linewidth=3, label=\"val\")\n",
        "plt.legend(loc='upper right')\n",
        "plt.xlabel('updates')\n",
        "plt.ylabel('RMSE')"
      ],
      "execution_count": 72,
      "outputs": [
        {
          "output_type": "execute_result",
          "data": {
            "text/plain": [
              "Text(0, 0.5, 'RMSE')"
            ]
          },
          "metadata": {
            "tags": []
          },
          "execution_count": 72
        },
        {
          "output_type": "display_data",
          "data": {
            "image/png": "[encoded data removed]",
            "text/plain": [
              "<Figure size 432x288 with 1 Axes>"
            ]
          },
          "metadata": {
            "tags": []
          }
        }
      ]
    }
  ]
}