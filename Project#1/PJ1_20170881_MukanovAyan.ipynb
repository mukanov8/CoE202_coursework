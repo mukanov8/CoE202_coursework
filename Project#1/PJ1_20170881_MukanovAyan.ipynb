{
  "nbformat": 4,
  "nbformat_minor": 0,
  "metadata": {
    "kernelspec": {
      "display_name": "Python 3",
      "language": "python",
      "name": "python3"
    },
    "language_info": {
      "codemirror_mode": {
        "name": "ipython",
        "version": 3
      },
      "file_extension": ".py",
      "mimetype": "text/x-python",
      "name": "python",
      "nbconvert_exporter": "python",
      "pygments_lexer": "ipython3",
      "version": "3.7.1"
    },
    "nav_menu": {
      "height": "279px",
      "width": "309px"
    },
    "toc": {
      "nav_menu": {},
      "number_sections": true,
      "sideBar": true,
      "skip_h1_title": false,
      "toc_cell": false,
      "toc_position": {},
      "toc_section_display": "block",
      "toc_window_display": false
    },
    "colab": {
      "name": "Project1. California Housing Price-πË∆˜øÎ.ipynb",
      "provenance": [],
      "collapsed_sections": [
        "eh68oBqKV-Fw",
        "KS5bVtpjV-F2",
        "wPe-bfkvV-F6",
        "SctNoDPJV-GI"
      ],
      "toc_visible": true
    }
  },
  "cells": [
    {
      "cell_type": "markdown",
      "metadata": {
        "id": "E52SfndHV-FU",
        "colab_type": "text"
      },
      "source": [
        "# California Housing Price \n",
        "reference : exercise in chapter 2 of 'Hands-On Machine Learning with Scikit-learn and Tensorflow' by Aurélien Géron. \n",
        "\n",
        "##### Tip> shortcuts for Jupyter Notebook\n",
        "* Ctrl + Enter : run cell\n",
        "* Shift + Enter : run cell and select below"
      ]
    },
    {
      "cell_type": "markdown",
      "metadata": {
        "id": "8vbg5kocV-FW",
        "colab_type": "text"
      },
      "source": [
        "## 1. Data Load\n",
        "\n",
        "Load the data by using *read_csv()* method in __Pandas__ module. Then, let's take a look at the top 10 rows using the *head()* method. "
      ]
    },
    {
      "cell_type": "code",
      "metadata": {
        "scrolled": false,
        "id": "vv-n9-P6V-FX",
        "colab_type": "code",
        "outputId": "cd675bfe-41b2-4436-8af1-e07a0f70238e",
        "colab": {
          "base_uri": "https://localhost:8080/",
          "height": 379
        }
      },
      "source": [
        "# Data load\n",
        "import pandas as pd\n",
        "\n",
        "housing = pd.read_csv('housing.csv')\n",
        "housing.head(10)"
      ],
      "execution_count": 0,
      "outputs": [
        {
          "output_type": "execute_result",
          "data": {
            "text/html": [
              "<div>\n",
              "<style scoped>\n",
              "    .dataframe tbody tr th:only-of-type {\n",
              "        vertical-align: middle;\n",
              "    }\n",
              "\n",
              "    .dataframe tbody tr th {\n",
              "        vertical-align: top;\n",
              "    }\n",
              "\n",
              "    .dataframe thead th {\n",
              "        text-align: right;\n",
              "    }\n",
              "</style>\n",
              "<table border=\"1\" class=\"dataframe\">\n",
              "  <thead>\n",
              "    <tr style=\"text-align: right;\">\n",
              "      <th></th>\n",
              "      <th>longitude</th>\n",
              "      <th>latitude</th>\n",
              "      <th>housing_median_age</th>\n",
              "      <th>total_rooms</th>\n",
              "      <th>total_bedrooms</th>\n",
              "      <th>population</th>\n",
              "      <th>households</th>\n",
              "      <th>median_income</th>\n",
              "      <th>median_house_value</th>\n",
              "      <th>ocean_proximity</th>\n",
              "    </tr>\n",
              "  </thead>\n",
              "  <tbody>\n",
              "    <tr>\n",
              "      <th>0</th>\n",
              "      <td>-122.23</td>\n",
              "      <td>37.88</td>\n",
              "      <td>41.0</td>\n",
              "      <td>880.0</td>\n",
              "      <td>129.0</td>\n",
              "      <td>322.0</td>\n",
              "      <td>126.0</td>\n",
              "      <td>8.3252</td>\n",
              "      <td>452600.0</td>\n",
              "      <td>NEAR BAY</td>\n",
              "    </tr>\n",
              "    <tr>\n",
              "      <th>1</th>\n",
              "      <td>-122.22</td>\n",
              "      <td>37.86</td>\n",
              "      <td>21.0</td>\n",
              "      <td>7099.0</td>\n",
              "      <td>1106.0</td>\n",
              "      <td>2401.0</td>\n",
              "      <td>1138.0</td>\n",
              "      <td>8.3014</td>\n",
              "      <td>358500.0</td>\n",
              "      <td>NEAR BAY</td>\n",
              "    </tr>\n",
              "    <tr>\n",
              "      <th>2</th>\n",
              "      <td>-122.24</td>\n",
              "      <td>37.85</td>\n",
              "      <td>52.0</td>\n",
              "      <td>1467.0</td>\n",
              "      <td>190.0</td>\n",
              "      <td>496.0</td>\n",
              "      <td>177.0</td>\n",
              "      <td>7.2574</td>\n",
              "      <td>352100.0</td>\n",
              "      <td>NEAR BAY</td>\n",
              "    </tr>\n",
              "    <tr>\n",
              "      <th>3</th>\n",
              "      <td>-122.25</td>\n",
              "      <td>37.85</td>\n",
              "      <td>52.0</td>\n",
              "      <td>1274.0</td>\n",
              "      <td>235.0</td>\n",
              "      <td>558.0</td>\n",
              "      <td>219.0</td>\n",
              "      <td>5.6431</td>\n",
              "      <td>341300.0</td>\n",
              "      <td>NEAR BAY</td>\n",
              "    </tr>\n",
              "    <tr>\n",
              "      <th>4</th>\n",
              "      <td>-122.25</td>\n",
              "      <td>37.85</td>\n",
              "      <td>52.0</td>\n",
              "      <td>1627.0</td>\n",
              "      <td>280.0</td>\n",
              "      <td>565.0</td>\n",
              "      <td>259.0</td>\n",
              "      <td>3.8462</td>\n",
              "      <td>342200.0</td>\n",
              "      <td>NEAR BAY</td>\n",
              "    </tr>\n",
              "    <tr>\n",
              "      <th>5</th>\n",
              "      <td>-122.25</td>\n",
              "      <td>37.85</td>\n",
              "      <td>52.0</td>\n",
              "      <td>919.0</td>\n",
              "      <td>213.0</td>\n",
              "      <td>413.0</td>\n",
              "      <td>193.0</td>\n",
              "      <td>4.0368</td>\n",
              "      <td>269700.0</td>\n",
              "      <td>NEAR BAY</td>\n",
              "    </tr>\n",
              "    <tr>\n",
              "      <th>6</th>\n",
              "      <td>-122.25</td>\n",
              "      <td>37.84</td>\n",
              "      <td>52.0</td>\n",
              "      <td>2535.0</td>\n",
              "      <td>489.0</td>\n",
              "      <td>1094.0</td>\n",
              "      <td>514.0</td>\n",
              "      <td>3.6591</td>\n",
              "      <td>299200.0</td>\n",
              "      <td>NEAR BAY</td>\n",
              "    </tr>\n",
              "    <tr>\n",
              "      <th>7</th>\n",
              "      <td>-122.25</td>\n",
              "      <td>37.84</td>\n",
              "      <td>52.0</td>\n",
              "      <td>3104.0</td>\n",
              "      <td>687.0</td>\n",
              "      <td>1157.0</td>\n",
              "      <td>647.0</td>\n",
              "      <td>3.1200</td>\n",
              "      <td>241400.0</td>\n",
              "      <td>NEAR BAY</td>\n",
              "    </tr>\n",
              "    <tr>\n",
              "      <th>8</th>\n",
              "      <td>-122.26</td>\n",
              "      <td>37.84</td>\n",
              "      <td>42.0</td>\n",
              "      <td>2555.0</td>\n",
              "      <td>665.0</td>\n",
              "      <td>1206.0</td>\n",
              "      <td>595.0</td>\n",
              "      <td>2.0804</td>\n",
              "      <td>226700.0</td>\n",
              "      <td>NEAR BAY</td>\n",
              "    </tr>\n",
              "    <tr>\n",
              "      <th>9</th>\n",
              "      <td>-122.25</td>\n",
              "      <td>37.84</td>\n",
              "      <td>52.0</td>\n",
              "      <td>3549.0</td>\n",
              "      <td>707.0</td>\n",
              "      <td>1551.0</td>\n",
              "      <td>714.0</td>\n",
              "      <td>3.6912</td>\n",
              "      <td>261100.0</td>\n",
              "      <td>NEAR BAY</td>\n",
              "    </tr>\n",
              "  </tbody>\n",
              "</table>\n",
              "</div>"
            ],
            "text/plain": [
              "   longitude  latitude  ...  median_house_value  ocean_proximity\n",
              "0    -122.23     37.88  ...            452600.0         NEAR BAY\n",
              "1    -122.22     37.86  ...            358500.0         NEAR BAY\n",
              "2    -122.24     37.85  ...            352100.0         NEAR BAY\n",
              "3    -122.25     37.85  ...            341300.0         NEAR BAY\n",
              "4    -122.25     37.85  ...            342200.0         NEAR BAY\n",
              "5    -122.25     37.85  ...            269700.0         NEAR BAY\n",
              "6    -122.25     37.84  ...            299200.0         NEAR BAY\n",
              "7    -122.25     37.84  ...            241400.0         NEAR BAY\n",
              "8    -122.26     37.84  ...            226700.0         NEAR BAY\n",
              "9    -122.25     37.84  ...            261100.0         NEAR BAY\n",
              "\n",
              "[10 rows x 10 columns]"
            ]
          },
          "metadata": {
            "tags": []
          },
          "execution_count": 9
        }
      ]
    },
    {
      "cell_type": "markdown",
      "metadata": {
        "id": "ZIb03dTVV-Fb",
        "colab_type": "text"
      },
      "source": [
        "Let's see the distribution of the data by using __matplotlib__ module briefly."
      ]
    },
    {
      "cell_type": "code",
      "metadata": {
        "id": "rjGhPkBKV-Fc",
        "colab_type": "code",
        "outputId": "82db35b2-fe53-4998-8f78-6f3a1dd69a09",
        "colab": {
          "base_uri": "https://localhost:8080/",
          "height": 471
        }
      },
      "source": [
        "# figures plotting with data\n",
        "%matplotlib inline\n",
        "import matplotlib\n",
        "import matplotlib.pyplot as plt\n",
        "plt.rcParams['axes.labelsize'] = 14\n",
        "plt.rcParams['xtick.labelsize'] = 12\n",
        "plt.rcParams['ytick.labelsize'] = 12\n",
        "\n",
        "housing.plot(kind=\"scatter\", x=\"longitude\", y=\"latitude\", alpha=0.4,\n",
        "    s=housing[\"population\"]/50, label=\"population\", figsize=(10,7),\n",
        "    c=\"median_house_value\", cmap=plt.get_cmap(\"jet\"), colorbar=True,\n",
        "    sharex=False)\n",
        "\n",
        "plt.legend()"
      ],
      "execution_count": 0,
      "outputs": [
        {
          "output_type": "execute_result",
          "data": {
            "text/plain": [
              "<matplotlib.legend.Legend at 0x7f3381c359b0>"
            ]
          },
          "metadata": {
            "tags": []
          },
          "execution_count": 10
        },
        {
          "output_type": "display_data",
          "data": {
            "image/png": "[encoded data removed]",
            "text/plain": [
              "<Figure size 720x504 with 2 Axes>"
            ]
          },
          "metadata": {
            "tags": []
          }
        }
      ]
    },
    {
      "cell_type": "markdown",
      "metadata": {
        "id": "ZBaRfsLbV-Ff",
        "colab_type": "text"
      },
      "source": [
        "To better understand the characteristics of each feature, let's apply the *info()* method."
      ]
    },
    {
      "cell_type": "code",
      "metadata": {
        "scrolled": false,
        "id": "o6hGpAEFV-Fg",
        "colab_type": "code",
        "outputId": "fbe38856-aeb4-4ad5-f458-7ccbd90b2ede",
        "colab": {
          "base_uri": "https://localhost:8080/",
          "height": 272
        }
      },
      "source": [
        "# check a structure of the data\n",
        "housing.info()"
      ],
      "execution_count": 0,
      "outputs": [
        {
          "output_type": "stream",
          "text": [
            "<class 'pandas.core.frame.DataFrame'>\n",
            "RangeIndex: 20640 entries, 0 to 20639\n",
            "Data columns (total 10 columns):\n",
            "longitude             20640 non-null float64\n",
            "latitude              20640 non-null float64\n",
            "housing_median_age    20640 non-null float64\n",
            "total_rooms           20640 non-null float64\n",
            "total_bedrooms        20433 non-null float64\n",
            "population            20640 non-null float64\n",
            "households            20640 non-null float64\n",
            "median_income         20640 non-null float64\n",
            "median_house_value    20640 non-null float64\n",
            "ocean_proximity       20640 non-null object\n",
            "dtypes: float64(9), object(1)\n",
            "memory usage: 1.6+ MB\n"
          ],
          "name": "stdout"
        }
      ]
    },
    {
      "cell_type": "markdown",
      "metadata": {
        "id": "KzWzvY9QV-Fi",
        "colab_type": "text"
      },
      "source": [
        "Let’s look at how much each attribute correlates with the *median house value*:"
      ]
    },
    {
      "cell_type": "code",
      "metadata": {
        "id": "hVXxP555V-Fj",
        "colab_type": "code",
        "outputId": "fa1e6bf9-7c32-4112-d682-3eee62279633",
        "colab": {
          "base_uri": "https://localhost:8080/",
          "height": 187
        }
      },
      "source": [
        "# correlation between the median_house_value and other features\n",
        "corr_matrix = housing.corr()\n",
        "corr_matrix['median_house_value'].sort_values(ascending=False)"
      ],
      "execution_count": 0,
      "outputs": [
        {
          "output_type": "execute_result",
          "data": {
            "text/plain": [
              "median_house_value    1.000000\n",
              "median_income         0.688075\n",
              "total_rooms           0.134153\n",
              "housing_median_age    0.105623\n",
              "households            0.065843\n",
              "total_bedrooms        0.049686\n",
              "population           -0.024650\n",
              "longitude            -0.045967\n",
              "latitude             -0.144160\n",
              "Name: median_house_value, dtype: float64"
            ]
          },
          "metadata": {
            "tags": []
          },
          "execution_count": 12
        }
      ]
    },
    {
      "cell_type": "markdown",
      "metadata": {
        "id": "TGmKpBsNV-Fl",
        "colab_type": "text"
      },
      "source": [
        "## 2. Prepare the Data\n",
        "\n",
        "this step consists of 'pre-processing', 'train-test seperation', and 'feature-label seperation'."
      ]
    },
    {
      "cell_type": "markdown",
      "metadata": {
        "id": "DnbxErnJV-Fl",
        "colab_type": "text"
      },
      "source": [
        "### 2-1) Pre-processing \n",
        "\n",
        "#### 2-1.1) Data cleaning\n",
        "Most Machine Learning algorithms cannot work with missing features, so let’s replace the empty values of 'total_bedrooms' with the median value."
      ]
    },
    {
      "cell_type": "code",
      "metadata": {
        "id": "LcVPxw0bV-Fm",
        "colab_type": "code",
        "outputId": "7378523b-2173-4d83-d3f4-414d2a7a267f",
        "colab": {
          "base_uri": "https://localhost:8080/",
          "height": 272
        }
      },
      "source": [
        "# replace the empty values with the median\n",
        "median =housing[\"total_bedrooms\"].median()\n",
        "housing[\"total_bedrooms\"] = housing[\"total_bedrooms\"].fillna(median) \n",
        "housing.info()"
      ],
      "execution_count": 0,
      "outputs": [
        {
          "output_type": "stream",
          "text": [
            "<class 'pandas.core.frame.DataFrame'>\n",
            "RangeIndex: 20640 entries, 0 to 20639\n",
            "Data columns (total 10 columns):\n",
            "longitude             20640 non-null float64\n",
            "latitude              20640 non-null float64\n",
            "housing_median_age    20640 non-null float64\n",
            "total_rooms           20640 non-null float64\n",
            "total_bedrooms        20640 non-null float64\n",
            "population            20640 non-null float64\n",
            "households            20640 non-null float64\n",
            "median_income         20640 non-null float64\n",
            "median_house_value    20640 non-null float64\n",
            "ocean_proximity       20640 non-null object\n",
            "dtypes: float64(9), object(1)\n",
            "memory usage: 1.6+ MB\n"
          ],
          "name": "stdout"
        }
      ]
    },
    {
      "cell_type": "markdown",
      "metadata": {
        "id": "hwgqzgVeV-Fo",
        "colab_type": "text"
      },
      "source": [
        "#### 2-1.2) Attributes combinations\n",
        "*rooms_per_household* is more meaningful than *total_rooms*. Also, *bedrooms_per_room* is more meaningful than *total_bedrooms*."
      ]
    },
    {
      "cell_type": "code",
      "metadata": {
        "id": "p-wgNiDYV-Fp",
        "colab_type": "code",
        "outputId": "40f832ee-4102-4210-8651-ffd47cca625f",
        "colab": {
          "base_uri": "https://localhost:8080/",
          "height": 272
        }
      },
      "source": [
        "# Attributes combinations\n",
        "housing[\"rooms_per_household\"] = housing[\"total_rooms\"]/housing[\"households\"]\n",
        "housing[\"bedrooms_per_room\"] = housing[\"total_bedrooms\"]/housing[\"total_rooms\"]\n",
        "del housing[\"total_rooms\"], housing[\"total_bedrooms\"]\n",
        "\n",
        "housing.info()"
      ],
      "execution_count": 0,
      "outputs": [
        {
          "output_type": "stream",
          "text": [
            "<class 'pandas.core.frame.DataFrame'>\n",
            "RangeIndex: 20640 entries, 0 to 20639\n",
            "Data columns (total 10 columns):\n",
            "longitude              20640 non-null float64\n",
            "latitude               20640 non-null float64\n",
            "housing_median_age     20640 non-null float64\n",
            "population             20640 non-null float64\n",
            "households             20640 non-null float64\n",
            "median_income          20640 non-null float64\n",
            "median_house_value     20640 non-null float64\n",
            "ocean_proximity        20640 non-null object\n",
            "rooms_per_household    20640 non-null float64\n",
            "bedrooms_per_room      20640 non-null float64\n",
            "dtypes: float64(9), object(1)\n",
            "memory usage: 1.6+ MB\n"
          ],
          "name": "stdout"
        }
      ]
    },
    {
      "cell_type": "markdown",
      "metadata": {
        "id": "S13nnQpPV-Fr",
        "colab_type": "text"
      },
      "source": [
        "#### 2-1.3) Feature Scaling\n",
        "Machine Learning algorithms don’t perform well when the input numerical attributes have very different scales.\n",
        "\n",
        "__Scikit-Learn__ provides a transformer called *StandardScaler* for *standardization*."
      ]
    },
    {
      "cell_type": "code",
      "metadata": {
        "scrolled": true,
        "id": "d2MuTnzRV-Ft",
        "colab_type": "code",
        "outputId": "7d78a98a-acef-49ce-a5a2-9303d9c3b3b3",
        "colab": {
          "base_uri": "https://localhost:8080/",
          "height": 224
        }
      },
      "source": [
        "# feature standardization\n",
        "from sklearn.preprocessing import StandardScaler\n",
        "\n",
        "scaler = StandardScaler()\n",
        "\n",
        "# delete columns of text type and target variable\n",
        "col_list = list(housing) \n",
        "col_list.remove('ocean_proximity') # text type\n",
        "col_list.remove('median_house_value') # target variable needs not to be scaled\n",
        "\n",
        "# generate a new dataframe that consist of numeric type only\n",
        "housing_numeric = housing[col_list]\n",
        "housing_scaled = scaler.fit_transform(housing_numeric)\n",
        "# Data type conversion from 'Series' to 'DataFrame'\n",
        "housing_scaled_df = pd.DataFrame(housing_scaled, index=housing_numeric.index, columns=housing_numeric.columns)\n",
        "\n",
        "# Concatenate \n",
        "housing = pd.concat([housing_scaled_df, housing['median_house_value'], housing['ocean_proximity']], axis=1)\n",
        "housing.head()"
      ],
      "execution_count": 0,
      "outputs": [
        {
          "output_type": "execute_result",
          "data": {
            "text/html": [
              "<div>\n",
              "<style scoped>\n",
              "    .dataframe tbody tr th:only-of-type {\n",
              "        vertical-align: middle;\n",
              "    }\n",
              "\n",
              "    .dataframe tbody tr th {\n",
              "        vertical-align: top;\n",
              "    }\n",
              "\n",
              "    .dataframe thead th {\n",
              "        text-align: right;\n",
              "    }\n",
              "</style>\n",
              "<table border=\"1\" class=\"dataframe\">\n",
              "  <thead>\n",
              "    <tr style=\"text-align: right;\">\n",
              "      <th></th>\n",
              "      <th>longitude</th>\n",
              "      <th>latitude</th>\n",
              "      <th>housing_median_age</th>\n",
              "      <th>population</th>\n",
              "      <th>households</th>\n",
              "      <th>median_income</th>\n",
              "      <th>rooms_per_household</th>\n",
              "      <th>bedrooms_per_room</th>\n",
              "      <th>median_house_value</th>\n",
              "      <th>ocean_proximity</th>\n",
              "    </tr>\n",
              "  </thead>\n",
              "  <tbody>\n",
              "    <tr>\n",
              "      <th>0</th>\n",
              "      <td>-1.327835</td>\n",
              "      <td>1.052548</td>\n",
              "      <td>0.982143</td>\n",
              "      <td>-0.974429</td>\n",
              "      <td>-0.977033</td>\n",
              "      <td>2.344766</td>\n",
              "      <td>0.628559</td>\n",
              "      <td>-1.029988</td>\n",
              "      <td>452600.0</td>\n",
              "      <td>NEAR BAY</td>\n",
              "    </tr>\n",
              "    <tr>\n",
              "      <th>1</th>\n",
              "      <td>-1.322844</td>\n",
              "      <td>1.043185</td>\n",
              "      <td>-0.607019</td>\n",
              "      <td>0.861439</td>\n",
              "      <td>1.669961</td>\n",
              "      <td>2.332238</td>\n",
              "      <td>0.327041</td>\n",
              "      <td>-0.888897</td>\n",
              "      <td>358500.0</td>\n",
              "      <td>NEAR BAY</td>\n",
              "    </tr>\n",
              "    <tr>\n",
              "      <th>2</th>\n",
              "      <td>-1.332827</td>\n",
              "      <td>1.038503</td>\n",
              "      <td>1.856182</td>\n",
              "      <td>-0.820777</td>\n",
              "      <td>-0.843637</td>\n",
              "      <td>1.782699</td>\n",
              "      <td>1.155620</td>\n",
              "      <td>-1.291686</td>\n",
              "      <td>352100.0</td>\n",
              "      <td>NEAR BAY</td>\n",
              "    </tr>\n",
              "    <tr>\n",
              "      <th>3</th>\n",
              "      <td>-1.337818</td>\n",
              "      <td>1.038503</td>\n",
              "      <td>1.856182</td>\n",
              "      <td>-0.766028</td>\n",
              "      <td>-0.733781</td>\n",
              "      <td>0.932968</td>\n",
              "      <td>0.156966</td>\n",
              "      <td>-0.449613</td>\n",
              "      <td>341300.0</td>\n",
              "      <td>NEAR BAY</td>\n",
              "    </tr>\n",
              "    <tr>\n",
              "      <th>4</th>\n",
              "      <td>-1.337818</td>\n",
              "      <td>1.038503</td>\n",
              "      <td>1.856182</td>\n",
              "      <td>-0.759847</td>\n",
              "      <td>-0.629157</td>\n",
              "      <td>-0.012881</td>\n",
              "      <td>0.344711</td>\n",
              "      <td>-0.639087</td>\n",
              "      <td>342200.0</td>\n",
              "      <td>NEAR BAY</td>\n",
              "    </tr>\n",
              "  </tbody>\n",
              "</table>\n",
              "</div>"
            ],
            "text/plain": [
              "   longitude  latitude  ...  median_house_value  ocean_proximity\n",
              "0  -1.327835  1.052548  ...            452600.0         NEAR BAY\n",
              "1  -1.322844  1.043185  ...            358500.0         NEAR BAY\n",
              "2  -1.332827  1.038503  ...            352100.0         NEAR BAY\n",
              "3  -1.337818  1.038503  ...            341300.0         NEAR BAY\n",
              "4  -1.337818  1.038503  ...            342200.0         NEAR BAY\n",
              "\n",
              "[5 rows x 10 columns]"
            ]
          },
          "metadata": {
            "tags": []
          },
          "execution_count": 15
        }
      ]
    },
    {
      "cell_type": "markdown",
      "metadata": {
        "id": "eh68oBqKV-Fw",
        "colab_type": "text"
      },
      "source": [
        "#### 2-1.4) Handling Text and Categorical Attributes\n",
        "Most Machine Learning algorithms prefer to work with numbers anyway, so let’s convert the 'ocean_proximity' to numbers.\n",
        "\n",
        "__Pandas__ provides a *get_dummies* method to convert integer categorical values into one-hot vectors. "
      ]
    },
    {
      "cell_type": "code",
      "metadata": {
        "id": "0ffsST0PV-Fx",
        "colab_type": "code",
        "outputId": "377eefde-27ee-41e1-dfa5-585a39b9949b",
        "colab": {
          "base_uri": "https://localhost:8080/",
          "height": 396
        }
      },
      "source": [
        "# One-hot encoding\n",
        "housing = pd.get_dummies(housing)\n",
        "housing.head(10)"
      ],
      "execution_count": 0,
      "outputs": [
        {
          "output_type": "execute_result",
          "data": {
            "text/html": [
              "<div>\n",
              "<style scoped>\n",
              "    .dataframe tbody tr th:only-of-type {\n",
              "        vertical-align: middle;\n",
              "    }\n",
              "\n",
              "    .dataframe tbody tr th {\n",
              "        vertical-align: top;\n",
              "    }\n",
              "\n",
              "    .dataframe thead th {\n",
              "        text-align: right;\n",
              "    }\n",
              "</style>\n",
              "<table border=\"1\" class=\"dataframe\">\n",
              "  <thead>\n",
              "    <tr style=\"text-align: right;\">\n",
              "      <th></th>\n",
              "      <th>longitude</th>\n",
              "      <th>latitude</th>\n",
              "      <th>housing_median_age</th>\n",
              "      <th>population</th>\n",
              "      <th>households</th>\n",
              "      <th>median_income</th>\n",
              "      <th>rooms_per_household</th>\n",
              "      <th>bedrooms_per_room</th>\n",
              "      <th>median_house_value</th>\n",
              "      <th>ocean_proximity_&lt;1H OCEAN</th>\n",
              "      <th>ocean_proximity_INLAND</th>\n",
              "      <th>ocean_proximity_ISLAND</th>\n",
              "      <th>ocean_proximity_NEAR BAY</th>\n",
              "      <th>ocean_proximity_NEAR OCEAN</th>\n",
              "    </tr>\n",
              "  </thead>\n",
              "  <tbody>\n",
              "    <tr>\n",
              "      <th>0</th>\n",
              "      <td>-1.327835</td>\n",
              "      <td>1.052548</td>\n",
              "      <td>0.982143</td>\n",
              "      <td>-0.974429</td>\n",
              "      <td>-0.977033</td>\n",
              "      <td>2.344766</td>\n",
              "      <td>0.628559</td>\n",
              "      <td>-1.029988</td>\n",
              "      <td>452600.0</td>\n",
              "      <td>0</td>\n",
              "      <td>0</td>\n",
              "      <td>0</td>\n",
              "      <td>1</td>\n",
              "      <td>0</td>\n",
              "    </tr>\n",
              "    <tr>\n",
              "      <th>1</th>\n",
              "      <td>-1.322844</td>\n",
              "      <td>1.043185</td>\n",
              "      <td>-0.607019</td>\n",
              "      <td>0.861439</td>\n",
              "      <td>1.669961</td>\n",
              "      <td>2.332238</td>\n",
              "      <td>0.327041</td>\n",
              "      <td>-0.888897</td>\n",
              "      <td>358500.0</td>\n",
              "      <td>0</td>\n",
              "      <td>0</td>\n",
              "      <td>0</td>\n",
              "      <td>1</td>\n",
              "      <td>0</td>\n",
              "    </tr>\n",
              "    <tr>\n",
              "      <th>2</th>\n",
              "      <td>-1.332827</td>\n",
              "      <td>1.038503</td>\n",
              "      <td>1.856182</td>\n",
              "      <td>-0.820777</td>\n",
              "      <td>-0.843637</td>\n",
              "      <td>1.782699</td>\n",
              "      <td>1.155620</td>\n",
              "      <td>-1.291686</td>\n",
              "      <td>352100.0</td>\n",
              "      <td>0</td>\n",
              "      <td>0</td>\n",
              "      <td>0</td>\n",
              "      <td>1</td>\n",
              "      <td>0</td>\n",
              "    </tr>\n",
              "    <tr>\n",
              "      <th>3</th>\n",
              "      <td>-1.337818</td>\n",
              "      <td>1.038503</td>\n",
              "      <td>1.856182</td>\n",
              "      <td>-0.766028</td>\n",
              "      <td>-0.733781</td>\n",
              "      <td>0.932968</td>\n",
              "      <td>0.156966</td>\n",
              "      <td>-0.449613</td>\n",
              "      <td>341300.0</td>\n",
              "      <td>0</td>\n",
              "      <td>0</td>\n",
              "      <td>0</td>\n",
              "      <td>1</td>\n",
              "      <td>0</td>\n",
              "    </tr>\n",
              "    <tr>\n",
              "      <th>4</th>\n",
              "      <td>-1.337818</td>\n",
              "      <td>1.038503</td>\n",
              "      <td>1.856182</td>\n",
              "      <td>-0.759847</td>\n",
              "      <td>-0.629157</td>\n",
              "      <td>-0.012881</td>\n",
              "      <td>0.344711</td>\n",
              "      <td>-0.639087</td>\n",
              "      <td>342200.0</td>\n",
              "      <td>0</td>\n",
              "      <td>0</td>\n",
              "      <td>0</td>\n",
              "      <td>1</td>\n",
              "      <td>0</td>\n",
              "    </tr>\n",
              "    <tr>\n",
              "      <th>5</th>\n",
              "      <td>-1.337818</td>\n",
              "      <td>1.038503</td>\n",
              "      <td>1.856182</td>\n",
              "      <td>-0.894071</td>\n",
              "      <td>-0.801787</td>\n",
              "      <td>0.087447</td>\n",
              "      <td>-0.269730</td>\n",
              "      <td>0.275563</td>\n",
              "      <td>269700.0</td>\n",
              "      <td>0</td>\n",
              "      <td>0</td>\n",
              "      <td>0</td>\n",
              "      <td>1</td>\n",
              "      <td>0</td>\n",
              "    </tr>\n",
              "    <tr>\n",
              "      <th>6</th>\n",
              "      <td>-1.337818</td>\n",
              "      <td>1.033821</td>\n",
              "      <td>1.856182</td>\n",
              "      <td>-0.292712</td>\n",
              "      <td>0.037823</td>\n",
              "      <td>-0.111366</td>\n",
              "      <td>-0.200918</td>\n",
              "      <td>-0.320242</td>\n",
              "      <td>299200.0</td>\n",
              "      <td>0</td>\n",
              "      <td>0</td>\n",
              "      <td>0</td>\n",
              "      <td>1</td>\n",
              "      <td>0</td>\n",
              "    </tr>\n",
              "    <tr>\n",
              "      <th>7</th>\n",
              "      <td>-1.337818</td>\n",
              "      <td>1.033821</td>\n",
              "      <td>1.856182</td>\n",
              "      <td>-0.237079</td>\n",
              "      <td>0.385698</td>\n",
              "      <td>-0.395137</td>\n",
              "      <td>-0.255232</td>\n",
              "      <td>0.115458</td>\n",
              "      <td>241400.0</td>\n",
              "      <td>0</td>\n",
              "      <td>0</td>\n",
              "      <td>0</td>\n",
              "      <td>1</td>\n",
              "      <td>0</td>\n",
              "    </tr>\n",
              "    <tr>\n",
              "      <th>8</th>\n",
              "      <td>-1.342809</td>\n",
              "      <td>1.033821</td>\n",
              "      <td>1.061601</td>\n",
              "      <td>-0.193810</td>\n",
              "      <td>0.249687</td>\n",
              "      <td>-0.942359</td>\n",
              "      <td>-0.458703</td>\n",
              "      <td>0.712372</td>\n",
              "      <td>226700.0</td>\n",
              "      <td>0</td>\n",
              "      <td>0</td>\n",
              "      <td>0</td>\n",
              "      <td>1</td>\n",
              "      <td>0</td>\n",
              "    </tr>\n",
              "    <tr>\n",
              "      <th>9</th>\n",
              "      <td>-1.337818</td>\n",
              "      <td>1.033821</td>\n",
              "      <td>1.856182</td>\n",
              "      <td>0.110844</td>\n",
              "      <td>0.560944</td>\n",
              "      <td>-0.094470</td>\n",
              "      <td>-0.185283</td>\n",
              "      <td>-0.223507</td>\n",
              "      <td>261100.0</td>\n",
              "      <td>0</td>\n",
              "      <td>0</td>\n",
              "      <td>0</td>\n",
              "      <td>1</td>\n",
              "      <td>0</td>\n",
              "    </tr>\n",
              "  </tbody>\n",
              "</table>\n",
              "</div>"
            ],
            "text/plain": [
              "   longitude  latitude  ...  ocean_proximity_NEAR BAY  ocean_proximity_NEAR OCEAN\n",
              "0  -1.327835  1.052548  ...                         1                           0\n",
              "1  -1.322844  1.043185  ...                         1                           0\n",
              "2  -1.332827  1.038503  ...                         1                           0\n",
              "3  -1.337818  1.038503  ...                         1                           0\n",
              "4  -1.337818  1.038503  ...                         1                           0\n",
              "5  -1.337818  1.038503  ...                         1                           0\n",
              "6  -1.337818  1.033821  ...                         1                           0\n",
              "7  -1.337818  1.033821  ...                         1                           0\n",
              "8  -1.342809  1.033821  ...                         1                           0\n",
              "9  -1.337818  1.033821  ...                         1                           0\n",
              "\n",
              "[10 rows x 14 columns]"
            ]
          },
          "metadata": {
            "tags": []
          },
          "execution_count": 16
        }
      ]
    },
    {
      "cell_type": "markdown",
      "metadata": {
        "id": "KS5bVtpjV-F2",
        "colab_type": "text"
      },
      "source": [
        "### 2-2) Training and Test Set Seperation\n",
        "__Scikit-Learn__ provides *train_test_split* function to split dataset into multiple subsets in various ways. "
      ]
    },
    {
      "cell_type": "code",
      "metadata": {
        "id": "y2KYmU4DV-F2",
        "colab_type": "code",
        "outputId": "64b7ed63-4b3f-4e63-c3ee-b193e8c4ab97",
        "colab": {
          "base_uri": "https://localhost:8080/",
          "height": 34
        }
      },
      "source": [
        "# training - test seperation\n",
        "from sklearn.model_selection import train_test_split\n",
        "\n",
        "train_set, test_set = train_test_split(housing, test_size=0.2, random_state=42)\n",
        "\n",
        "print('# of train_set : %.0f, # of test_set : %.0f' %(train_set.shape[0], test_set.shape[0]))"
      ],
      "execution_count": 0,
      "outputs": [
        {
          "output_type": "stream",
          "text": [
            "# of train_set : 16512, # of test_set : 4128\n"
          ],
          "name": "stdout"
        }
      ]
    },
    {
      "cell_type": "markdown",
      "metadata": {
        "id": "wPe-bfkvV-F6",
        "colab_type": "text"
      },
      "source": [
        "### 2-3) Features and Target Value Seperation of the Training Set\n",
        "It’s time to prepare the data for your Machine Learning algorithms. \n",
        "\n",
        "Let’s separate the features and target value to generate the model H(X)."
      ]
    },
    {
      "cell_type": "code",
      "metadata": {
        "id": "X7prTAUcV-F7",
        "colab_type": "code",
        "colab": {}
      },
      "source": [
        "# feature and label seperation of training set\n",
        "train_set_features = train_set.drop('median_house_value',axis=1)\n",
        "train_set_target = train_set[\"median_house_value\"].copy()"
      ],
      "execution_count": 0,
      "outputs": []
    },
    {
      "cell_type": "markdown",
      "metadata": {
        "id": "JV7n8cosV-F-",
        "colab_type": "text"
      },
      "source": [
        "## 3. Linear Regression\n",
        "generate the linear regression model by using *LinearRegression* function from __Scikit-learn__.\n",
        "\n",
        "For calculating our RMSE, *mean_square_error* function will be used from __scikit-learn__. Also, __numpy__ module will be used to use sqaure-root operation.\n",
        "\n",
        " $$RMSE = \\sqrt{\\sum{(y - \\widehat y)^2}\\over N}$$\n",
        " <br/>\n",
        " \n",
        "$y$ : actual median_house_value, $\\widehat y$ : median_house_value predicted. $N$ : total number of data<br/>"
      ]
    },
    {
      "cell_type": "code",
      "metadata": {
        "id": "4z06s4B_V-F-",
        "colab_type": "code",
        "colab": {}
      },
      "source": [
        "def RMSE_calculation(param1, param2):\n",
        "    mse = mean_squared_error(param1, param2)\n",
        "    rmse = np.sqrt(mse)\n",
        "\n",
        "    return rmse"
      ],
      "execution_count": 0,
      "outputs": []
    },
    {
      "cell_type": "code",
      "metadata": {
        "id": "Uh_6tirBV-GA",
        "colab_type": "code",
        "outputId": "a7141a21-909c-46ef-e28a-56af4e991afe",
        "colab": {
          "base_uri": "https://localhost:8080/",
          "height": 34
        }
      },
      "source": [
        "from sklearn.linear_model import LinearRegression\n",
        "from sklearn.metrics import mean_squared_error\n",
        "import numpy as np # for a sqaure root calcuation\n",
        "\n",
        "# generate model by using training set\n",
        "lin_reg = LinearRegression()\n",
        "lin_reg.fit(train_set_features, train_set_target) \n",
        "\n",
        "# Feature and target value Seperation of the test set\n",
        "test_set_features = test_set.drop('median_house_value',axis=1)\n",
        "test_set_target = test_set[\"median_house_value\"].copy()\n",
        "\n",
        "# target value predicted from our model\n",
        "train_final_predictions = lin_reg.predict(train_set_features)\n",
        "test_final_predictions = lin_reg.predict(test_set_features)\n",
        "\n",
        "# RMSE\n",
        "train_final_rmse = RMSE_calculation(train_set_target, train_final_predictions)\n",
        "test_final_rmse = RMSE_calculation(test_set_target, test_final_predictions)\n",
        "\n",
        "print('train_RMSE : %.2f , test_RMSE : %.2f' %(train_final_rmse, test_final_rmse))"
      ],
      "execution_count": 0,
      "outputs": [
        {
          "output_type": "stream",
          "text": [
            "train_RMSE : 67631.16 , test_RMSE : 72337.41\n"
          ],
          "name": "stdout"
        }
      ]
    },
    {
      "cell_type": "markdown",
      "metadata": {
        "id": "EXAfUmXdV-GC",
        "colab_type": "text"
      },
      "source": [
        "## 4. Linear Regression with Gradient Descent"
      ]
    },
    {
      "cell_type": "markdown",
      "metadata": {
        "id": "1jzFYMQdV-GC",
        "colab_type": "text"
      },
      "source": [
        "To compute matrix calculations easily, convert data types from dataframe to numpy array. "
      ]
    },
    {
      "cell_type": "code",
      "metadata": {
        "id": "96mpD_g2V-GD",
        "colab_type": "code",
        "colab": {}
      },
      "source": [
        "train_set_features_array = train_set_features.values\n",
        "train_set_target_array =np.expand_dims(train_set_target,axis=1)\n",
        "\n",
        "test_set_features_array = test_set_features.values\n",
        "test_set_target_array = np.expand_dims(test_set_target,axis=1)\n",
        "\n",
        "train_y = train_set_target.values.reshape(-1,1)\n",
        "test_y = test_set_target.values.reshape(-1,1)"
      ],
      "execution_count": 0,
      "outputs": []
    },
    {
      "cell_type": "markdown",
      "metadata": {
        "id": "4BNXzX1zV-GF",
        "colab_type": "text"
      },
      "source": [
        "Generate the augmented matrix $X_{b}$ by adding bias column which consists of all 1s."
      ]
    },
    {
      "cell_type": "code",
      "metadata": {
        "id": "wEI9wT84V-GG",
        "colab_type": "code",
        "colab": {}
      },
      "source": [
        "train_bias_column = np.ones([train_set_features_array.shape[0],1])\n",
        "train_X_b = np.concatenate((train_set_features_array, train_bias_column),axis=1)\n",
        "\n",
        "test_bias_column = np.ones([test_set_features_array.shape[0],1])\n",
        "test_X_b = np.concatenate((test_set_features_array, test_bias_column),axis=1)"
      ],
      "execution_count": 0,
      "outputs": []
    },
    {
      "cell_type": "markdown",
      "metadata": {
        "id": "SctNoDPJV-GI",
        "colab_type": "text"
      },
      "source": [
        "### 4-1) Batch Gradient Descent"
      ]
    },
    {
      "cell_type": "markdown",
      "metadata": {
        "id": "nJlspHGgV-GJ",
        "colab_type": "text"
      },
      "source": [
        "The gradient descent mothod is as follows."
      ]
    },
    {
      "cell_type": "markdown",
      "metadata": {
        "id": "yw2uFYVgV-GJ",
        "colab_type": "text"
      },
      "source": [
        "$$ \\theta \\leftarrow \\theta - \\eta\\nabla_{\\theta} J(\\theta) \\quad ,\\,where \\; \\eta = learning\\, rate$$ \n"
      ]
    },
    {
      "cell_type": "markdown",
      "metadata": {
        "id": "Z3wqz-eLV-GK",
        "colab_type": "text"
      },
      "source": [
        "Recall that "
      ]
    },
    {
      "cell_type": "markdown",
      "metadata": {
        "id": "__0OcukgV-GL",
        "colab_type": "text"
      },
      "source": [
        "$$ \\nabla_{\\theta} J(\\theta) = X^{T}X\\theta - X^{T}y $$\n",
        "$$ = X^{T}(X\\theta-y)$$"
      ]
    },
    {
      "cell_type": "markdown",
      "metadata": {
        "id": "dzZXa9SvV-GL",
        "colab_type": "text"
      },
      "source": [
        "It is batch gradient descent that $X$ contains all training instances."
      ]
    },
    {
      "cell_type": "markdown",
      "metadata": {
        "id": "AP2-nPykV-GN",
        "colab_type": "text"
      },
      "source": [
        "At first, initialize $\\theta$ and store the training RMSE and validation RMSE for this initialized $\\theta$."
      ]
    },
    {
      "cell_type": "code",
      "metadata": {
        "id": "SXuSYeqtV-GO",
        "colab_type": "code",
        "outputId": "ae22d7cb-165c-4ed4-932c-92e0131ff3e2",
        "colab": {
          "base_uri": "https://localhost:8080/",
          "height": 34
        }
      },
      "source": [
        "# initialize theta \n",
        "feature_num = train_X_b.shape[1]\n",
        "theta = np.random.randn(feature_num,1)\n",
        "\n",
        "GD_train_rmse = []\n",
        "GD_val_rmse = []\n",
        "\n",
        "initialized_theta_train_RMSE = RMSE_calculation(np.dot(train_X_b,theta), train_y)\n",
        "initialized_theta_val_RMSE = RMSE_calculation(np.dot(test_X_b,theta), test_y)\n",
        "\n",
        "GD_train_rmse.append(initialized_theta_train_RMSE)\n",
        "GD_val_rmse.append(initialized_theta_val_RMSE)\n",
        "\n",
        "print('RMSE of the initialized theta - train_RMSE : %.2f, val_RMSE : %.2f' %(initialized_theta_train_RMSE, initialized_theta_val_RMSE))"
      ],
      "execution_count": 0,
      "outputs": [
        {
          "output_type": "stream",
          "text": [
            "RMSE of the initialized theta - train_RMSE : 237271.08, val_RMSE : 235233.13\n"
          ],
          "name": "stdout"
        }
      ]
    },
    {
      "cell_type": "markdown",
      "metadata": {
        "id": "UVU11p1sV-GR",
        "colab_type": "text"
      },
      "source": [
        "Execute your batch gradient descent."
      ]
    },
    {
      "cell_type": "code",
      "metadata": {
        "scrolled": true,
        "id": "HT3jT1KuV-GS",
        "colab_type": "code",
        "outputId": "25028782-f83c-4175-ec8f-395e202974fd",
        "colab": {
          "base_uri": "https://localhost:8080/",
          "height": 1000
        }
      },
      "source": [
        "train_num = train_X_b.shape[0]\n",
        "\n",
        "batch_size = train_num\n",
        "n_epoch = 10000\n",
        "eta = 0.001 # learning rate\n",
        "\n",
        "for epoch in range(n_epoch):\n",
        "    gradient = 2.0 / batch_size * np.dot(train_X_b.T , np.dot(train_X_b, theta) - train_y)\n",
        "    theta = theta - eta * gradient\n",
        "    \n",
        "    # train error\n",
        "    GD_train_predictions = np.dot(train_X_b, theta)\n",
        "    GD_train_final_rmse = RMSE_calculation(train_y, GD_train_predictions)\n",
        "    GD_train_rmse.append(GD_train_final_rmse)\n",
        "    \n",
        "    # val error\n",
        "    GD_val_predictions = np.dot(test_X_b, theta)\n",
        "    GD_val_final_rmse = RMSE_calculation(test_y, GD_val_predictions)\n",
        "    GD_val_rmse.append(GD_val_final_rmse)\n",
        "    \n",
        "    if epoch%100 == 0:\n",
        "        print('%d번째 train_RMSE : %.2f, val_RMSE : %.2f' %(epoch, GD_train_final_rmse, GD_val_final_rmse))"
      ],
      "execution_count": 0,
      "outputs": [
        {
          "output_type": "stream",
          "text": [
            "0번째 train_RMSE : 236714.54, val_RMSE : 234686.35\n",
            "100번째 train_RMSE : 188979.60, val_RMSE : 187842.59\n",
            "200번째 train_RMSE : 154322.99, val_RMSE : 153897.79\n",
            "300번째 train_RMSE : 129548.63, val_RMSE : 129652.30\n",
            "400번째 train_RMSE : 112153.63, val_RMSE : 112617.31\n",
            "500번째 train_RMSE : 100148.15, val_RMSE : 100832.96\n",
            "600번째 train_RMSE : 91964.04, val_RMSE : 92771.14\n",
            "700번째 train_RMSE : 86406.67, val_RMSE : 87277.99\n",
            "800번째 train_RMSE : 82608.18, val_RMSE : 83519.22\n",
            "900번째 train_RMSE : 79967.17, val_RMSE : 80916.57\n",
            "1000번째 train_RMSE : 78082.53, val_RMSE : 79082.32\n",
            "1100번째 train_RMSE : 76693.66, val_RMSE : 77762.06\n",
            "1200번째 train_RMSE : 75633.80, val_RMSE : 76790.53\n",
            "1300번째 train_RMSE : 74796.76, val_RMSE : 76060.40\n",
            "1400번째 train_RMSE : 74114.74, val_RMSE : 75501.39\n",
            "1500번째 train_RMSE : 73544.02, val_RMSE : 75066.77\n",
            "1600번째 train_RMSE : 73055.97, val_RMSE : 74724.86\n",
            "1700번째 train_RMSE : 72631.42, val_RMSE : 74453.59\n",
            "1800번째 train_RMSE : 72257.23, val_RMSE : 74237.21\n",
            "1900번째 train_RMSE : 71924.08, val_RMSE : 74064.17\n",
            "2000번째 train_RMSE : 71625.18, val_RMSE : 73925.75\n",
            "2100번째 train_RMSE : 71355.40, val_RMSE : 73815.23\n",
            "2200번째 train_RMSE : 71110.77, val_RMSE : 73727.31\n",
            "2300번째 train_RMSE : 70888.10, val_RMSE : 73657.78\n",
            "2400번째 train_RMSE : 70684.80, val_RMSE : 73603.20\n",
            "2500번째 train_RMSE : 70498.70, val_RMSE : 73560.77\n",
            "2600번째 train_RMSE : 70327.96, val_RMSE : 73528.19\n",
            "2700번째 train_RMSE : 70171.01, val_RMSE : 73503.54\n",
            "2800번째 train_RMSE : 70026.48, val_RMSE : 73485.24\n",
            "2900번째 train_RMSE : 69893.16, val_RMSE : 73471.98\n",
            "3000번째 train_RMSE : 69770.01, val_RMSE : 73462.65\n",
            "3100번째 train_RMSE : 69656.07, val_RMSE : 73456.34\n",
            "3200번째 train_RMSE : 69550.54, val_RMSE : 73452.32\n",
            "3300번째 train_RMSE : 69452.65, val_RMSE : 73449.95\n",
            "3400번째 train_RMSE : 69361.75, val_RMSE : 73448.73\n",
            "3500번째 train_RMSE : 69277.23, val_RMSE : 73448.23\n",
            "3600번째 train_RMSE : 69198.57, val_RMSE : 73448.12\n",
            "3700번째 train_RMSE : 69125.27, val_RMSE : 73448.13\n",
            "3800번째 train_RMSE : 69056.90, val_RMSE : 73448.04\n",
            "3900번째 train_RMSE : 68993.05, val_RMSE : 73447.69\n",
            "4000번째 train_RMSE : 68933.38, val_RMSE : 73446.93\n",
            "4100번째 train_RMSE : 68877.55, val_RMSE : 73445.67\n",
            "4200번째 train_RMSE : 68825.26, val_RMSE : 73443.84\n",
            "4300번째 train_RMSE : 68776.25, val_RMSE : 73441.40\n",
            "4400번째 train_RMSE : 68730.27, val_RMSE : 73438.31\n",
            "4500번째 train_RMSE : 68687.08, val_RMSE : 73434.55\n",
            "4600번째 train_RMSE : 68646.50, val_RMSE : 73430.13\n",
            "4700번째 train_RMSE : 68608.32, val_RMSE : 73425.06\n",
            "4800번째 train_RMSE : 68572.37, val_RMSE : 73419.34\n",
            "4900번째 train_RMSE : 68538.50, val_RMSE : 73413.00\n",
            "5000번째 train_RMSE : 68506.55, val_RMSE : 73406.06\n",
            "5100번째 train_RMSE : 68476.41, val_RMSE : 73398.56\n",
            "5200번째 train_RMSE : 68447.93, val_RMSE : 73390.52\n",
            "5300번째 train_RMSE : 68421.01, val_RMSE : 73381.98\n",
            "5400번째 train_RMSE : 68395.54, val_RMSE : 73372.98\n",
            "5500번째 train_RMSE : 68371.43, val_RMSE : 73363.55\n",
            "5600번째 train_RMSE : 68348.59, val_RMSE : 73353.73\n",
            "5700번째 train_RMSE : 68326.94, val_RMSE : 73343.54\n",
            "5800번째 train_RMSE : 68306.39, val_RMSE : 73333.03\n",
            "5900번째 train_RMSE : 68286.88, val_RMSE : 73322.22\n",
            "6000번째 train_RMSE : 68268.34, val_RMSE : 73311.16\n",
            "6100번째 train_RMSE : 68250.71, val_RMSE : 73299.86\n",
            "6200번째 train_RMSE : 68233.94, val_RMSE : 73288.37\n",
            "6300번째 train_RMSE : 68217.97, val_RMSE : 73276.70\n",
            "6400번째 train_RMSE : 68202.76, val_RMSE : 73264.89\n",
            "6500번째 train_RMSE : 68188.25, val_RMSE : 73252.96\n",
            "6600번째 train_RMSE : 68174.41, val_RMSE : 73240.93\n",
            "6700번째 train_RMSE : 68161.20, val_RMSE : 73228.83\n",
            "6800번째 train_RMSE : 68148.58, val_RMSE : 73216.67\n",
            "6900번째 train_RMSE : 68136.51, val_RMSE : 73204.48\n",
            "7000번째 train_RMSE : 68124.98, val_RMSE : 73192.28\n",
            "7100번째 train_RMSE : 68113.93, val_RMSE : 73180.08\n",
            "7200번째 train_RMSE : 68103.36, val_RMSE : 73167.90\n",
            "7300번째 train_RMSE : 68093.22, val_RMSE : 73155.75\n",
            "7400번째 train_RMSE : 68083.51, val_RMSE : 73143.65\n",
            "7500번째 train_RMSE : 68074.19, val_RMSE : 73131.60\n",
            "7600번째 train_RMSE : 68065.24, val_RMSE : 73119.63\n",
            "7700번째 train_RMSE : 68056.65, val_RMSE : 73107.74\n",
            "7800번째 train_RMSE : 68048.39, val_RMSE : 73095.93\n",
            "7900번째 train_RMSE : 68040.45, val_RMSE : 73084.23\n",
            "8000번째 train_RMSE : 68032.81, val_RMSE : 73072.64\n",
            "8100번째 train_RMSE : 68025.46, val_RMSE : 73061.15\n",
            "8200번째 train_RMSE : 68018.38, val_RMSE : 73049.79\n",
            "8300번째 train_RMSE : 68011.55, val_RMSE : 73038.56\n",
            "8400번째 train_RMSE : 68004.97, val_RMSE : 73027.45\n",
            "8500번째 train_RMSE : 67998.63, val_RMSE : 73016.48\n",
            "8600번째 train_RMSE : 67992.50, val_RMSE : 73005.65\n",
            "8700번째 train_RMSE : 67986.59, val_RMSE : 72994.97\n",
            "8800번째 train_RMSE : 67980.88, val_RMSE : 72984.43\n",
            "8900번째 train_RMSE : 67975.35, val_RMSE : 72974.04\n",
            "9000번째 train_RMSE : 67970.02, val_RMSE : 72963.80\n",
            "9100번째 train_RMSE : 67964.85, val_RMSE : 72953.71\n",
            "9200번째 train_RMSE : 67959.85, val_RMSE : 72943.77\n",
            "9300번째 train_RMSE : 67955.01, val_RMSE : 72933.99\n",
            "9400번째 train_RMSE : 67950.32, val_RMSE : 72924.36\n",
            "9500번째 train_RMSE : 67945.78, val_RMSE : 72914.89\n",
            "9600번째 train_RMSE : 67941.37, val_RMSE : 72905.58\n",
            "9700번째 train_RMSE : 67937.10, val_RMSE : 72896.42\n",
            "9800번째 train_RMSE : 67932.95, val_RMSE : 72887.42\n",
            "9900번째 train_RMSE : 67928.92, val_RMSE : 72878.57\n"
          ],
          "name": "stdout"
        }
      ]
    },
    {
      "cell_type": "markdown",
      "metadata": {
        "id": "o7xrzSVKV-GU",
        "colab_type": "text"
      },
      "source": [
        "Check for changes of RMSE as epoch increases."
      ]
    },
    {
      "cell_type": "code",
      "metadata": {
        "id": "r-SBIgwvV-GU",
        "colab_type": "code",
        "outputId": "bc1a5fb9-8277-4e0e-9a83-1ddadac28e1e",
        "colab": {
          "base_uri": "https://localhost:8080/",
          "height": 308
        }
      },
      "source": [
        "plt.plot(GD_train_rmse, \"r+\", linewidth=2, label=\"train\")\n",
        "plt.plot(GD_val_rmse, \"b-\", linewidth=3, label=\"val\")\n",
        "\n",
        "plt.ylim([60000, 250000])\n",
        "plt.legend(loc='upper right')\n",
        "plt.xlabel('epoch')\n",
        "plt.ylabel('RMSE')"
      ],
      "execution_count": 0,
      "outputs": [
        {
          "output_type": "execute_result",
          "data": {
            "text/plain": [
              "Text(0, 0.5, 'RMSE')"
            ]
          },
          "metadata": {
            "tags": []
          },
          "execution_count": 25
        },
        {
          "output_type": "display_data",
          "data": {
            "image/png": "[encoded data removed]",
            "text/plain": [
              "<Figure size 432x288 with 1 Axes>"
            ]
          },
          "metadata": {
            "tags": []
          }
        }
      ]
    },
    {
      "cell_type": "markdown",
      "metadata": {
        "id": "eKXcD8BbV-GW",
        "colab_type": "text"
      },
      "source": [
        "### 4-2) Mini-Batch Gradient Descent"
      ]
    },
    {
      "cell_type": "markdown",
      "metadata": {
        "id": "hqeHgeGhV-GX",
        "colab_type": "text"
      },
      "source": [
        "It is mini-batch gradient descent that  𝑋  contains only a small set of randomly selected training instances.<br/>\n",
        "It is important to shuffle the order of train instances after each epochs."
      ]
    },
    {
      "cell_type": "markdown",
      "metadata": {
        "id": "pDufxhEbV-GX",
        "colab_type": "text"
      },
      "source": [
        "Initialize  𝜃  and store the training RMSE and validation RMSE for this initialized  𝜃 ."
      ]
    },
    {
      "cell_type": "code",
      "metadata": {
        "id": "zaigqed-V-GY",
        "colab_type": "code",
        "outputId": "8ea01392-06a7-4b87-99e4-84a28dfe6d8c",
        "colab": {
          "base_uri": "https://localhost:8080/",
          "height": 34
        }
      },
      "source": [
        "theta = np.random.randn(feature_num,1)\n",
        "theta_bkp = theta # back-up the theta values\n",
        "\n",
        "GD_train_rmse = []\n",
        "GD_val_rmse = []\n",
        "\n",
        "GD_batch_train_rmse = []\n",
        "GD_batch_val_rmse = []\n",
        "\n",
        "initialized_theta_train_RMSE = RMSE_calculation(np.dot(train_X_b,theta), train_y)\n",
        "initialized_theta_val_RMSE = RMSE_calculation(np.dot(test_X_b,theta), test_y)\n",
        "\n",
        "GD_train_rmse.append(initialized_theta_train_RMSE)\n",
        "GD_val_rmse.append(initialized_theta_val_RMSE)\n",
        "GD_batch_train_rmse.append(initialized_theta_train_RMSE)\n",
        "GD_batch_val_rmse.append(initialized_theta_val_RMSE)\n",
        "\n",
        "print('RMSE of the initialized theta - train_RMSE : %.2f, val_RMSE : %.2f' %(initialized_theta_train_RMSE, initialized_theta_val_RMSE))"
      ],
      "execution_count": 0,
      "outputs": [
        {
          "output_type": "stream",
          "text": [
            "RMSE of the initialized theta - train_RMSE : 237269.16, val_RMSE : 235231.31\n"
          ],
          "name": "stdout"
        }
      ]
    },
    {
      "cell_type": "markdown",
      "metadata": {
        "id": "j19DrtfLV-Gb",
        "colab_type": "text"
      },
      "source": [
        "Execute your mini-batch gradient descent."
      ]
    },
    {
      "cell_type": "code",
      "metadata": {
        "scrolled": true,
        "id": "2-Q-YbqmV-Gc",
        "colab_type": "code",
        "outputId": "ace81827-51f8-4fea-dab7-2609f5c5f437",
        "colab": {
          "base_uri": "https://localhost:8080/",
          "height": 187
        }
      },
      "source": [
        "batch_size = 128\n",
        "n_epoch = 100\n",
        "eta = 0.001 # learning rate\n",
        "\n",
        "for epoch in range(n_epoch):\n",
        "    \n",
        "    # shuffle\n",
        "    shuffle_indices = np.random.permutation(train_num)\n",
        "    feature_shuffled = train_X_b[shuffle_indices,:]\n",
        "    target_shuffled = train_y[shuffle_indices,:]\n",
        "    \n",
        "    for i in range(0, train_num, batch_size):\n",
        "        batch_x = feature_shuffled[i:i+batch_size,:]\n",
        "        batch_y = target_shuffled[i:i+batch_size,:]\n",
        "\n",
        "        gradient = 2.0/batch_size * np.dot(batch_x.T , np.dot(batch_x, theta) - batch_y)\n",
        "        theta = theta - eta * gradient\n",
        "        \n",
        "        # train error after batch update \n",
        "        train_batch_predictions = np.dot(train_X_b, theta)\n",
        "        train_batch_rmse = RMSE_calculation(train_y, train_batch_predictions)\n",
        "        GD_batch_train_rmse.append(train_batch_rmse)\n",
        "        \n",
        "        # test error after batch update\n",
        "        val_batch_predictions = np.dot(test_X_b, theta)\n",
        "        val_batch_rmse = RMSE_calculation(test_y, val_batch_predictions)\n",
        "        GD_batch_val_rmse.append(val_batch_rmse)\n",
        "        \n",
        "    # train error after epoch \n",
        "    GD_train_predictions = np.dot(train_X_b, theta)\n",
        "    GD_train_final_rmse = RMSE_calculation(train_y, GD_train_predictions)\n",
        "    GD_train_rmse.append(GD_train_final_rmse)\n",
        "    \n",
        "    # val error after epoch \n",
        "    GD_val_predictions = np.dot(test_X_b, theta)\n",
        "    GD_val_final_rmse = RMSE_calculation(test_y, GD_val_predictions)\n",
        "    GD_val_rmse.append(GD_val_final_rmse)\n",
        "    \n",
        "    if epoch%10 == 0:\n",
        "        print('%d번째 train_RMSE : %.2f, val_RMSE : %.2f' %(epoch, GD_train_final_rmse, GD_val_final_rmse))"
      ],
      "execution_count": 0,
      "outputs": [
        {
          "output_type": "stream",
          "text": [
            "0번째 train_RMSE : 178115.34, val_RMSE : 177196.22\n",
            "10번째 train_RMSE : 74001.22, val_RMSE : 75412.71\n",
            "20번째 train_RMSE : 70157.74, val_RMSE : 73502.82\n",
            "30번째 train_RMSE : 68934.21, val_RMSE : 73445.31\n",
            "40번째 train_RMSE : 68424.36, val_RMSE : 73384.93\n",
            "50번째 train_RMSE : 68177.68, val_RMSE : 73234.91\n",
            "60번째 train_RMSE : 68043.25, val_RMSE : 73079.82\n",
            "70번째 train_RMSE : 67962.23, val_RMSE : 72945.35\n",
            "80번째 train_RMSE : 67909.28, val_RMSE : 72830.96\n",
            "90번째 train_RMSE : 67871.84, val_RMSE : 72733.02\n"
          ],
          "name": "stdout"
        }
      ]
    },
    {
      "cell_type": "markdown",
      "metadata": {
        "id": "eDQAvW20V-Gf",
        "colab_type": "text"
      },
      "source": [
        "Check for changes of RMSE as epoch increases."
      ]
    },
    {
      "cell_type": "code",
      "metadata": {
        "scrolled": false,
        "id": "PhoII9KzV-Gg",
        "colab_type": "code",
        "outputId": "01efd5fd-79df-4574-9305-b1c4f3c0cf48",
        "colab": {
          "base_uri": "https://localhost:8080/",
          "height": 308
        }
      },
      "source": [
        "plt.plot(GD_train_rmse, \"r+\", linewidth=2, label=\"train\")\n",
        "plt.plot(GD_val_rmse, \"b-\", linewidth=3, label=\"val\")\n",
        "\n",
        "plt.ylim([60000, 250000])\n",
        "plt.legend(loc='upper right')\n",
        "plt.xlabel('epoch')\n",
        "plt.ylabel('RMSE')"
      ],
      "execution_count": 0,
      "outputs": [
        {
          "output_type": "execute_result",
          "data": {
            "text/plain": [
              "Text(0, 0.5, 'RMSE')"
            ]
          },
          "metadata": {
            "tags": []
          },
          "execution_count": 28
        },
        {
          "output_type": "display_data",
          "data": {
            "image/png": "[encoded data removed]",
            "text/plain": [
              "<Figure size 432x288 with 1 Axes>"
            ]
          },
          "metadata": {
            "tags": []
          }
        }
      ]
    },
    {
      "cell_type": "markdown",
      "metadata": {
        "id": "KHCik0GxV-Gj",
        "colab_type": "text"
      },
      "source": [
        "Check for changes of RMSE as the number of updates increases."
      ]
    },
    {
      "cell_type": "code",
      "metadata": {
        "id": "VFCwvVnwV-Gk",
        "colab_type": "code",
        "outputId": "8205436f-8df8-42f6-e371-d3f27de1aea6",
        "colab": {
          "base_uri": "https://localhost:8080/",
          "height": 308
        }
      },
      "source": [
        "plt.plot(GD_batch_train_rmse, \"r+\", linewidth=2, label=\"train\")\n",
        "plt.plot(GD_batch_val_rmse, \"b-\", linewidth=3, label=\"val\")\n",
        "\n",
        "plt.ylim([60000, 250000])\n",
        "plt.xlim([0,2000])\n",
        "plt.legend(loc='upper right')\n",
        "plt.xlabel('updates')\n",
        "plt.ylabel('RMSE')"
      ],
      "execution_count": 0,
      "outputs": [
        {
          "output_type": "execute_result",
          "data": {
            "text/plain": [
              "Text(0, 0.5, 'RMSE')"
            ]
          },
          "metadata": {
            "tags": []
          },
          "execution_count": 29
        },
        {
          "output_type": "display_data",
          "data": {
            "image/png": "[encoded data removed]",
            "text/plain": [
              "<Figure size 432x288 with 1 Axes>"
            ]
          },
          "metadata": {
            "tags": []
          }
        }
      ]
    },
    {
      "cell_type": "markdown",
      "metadata": {
        "id": "WG-ZrETlV-Gm",
        "colab_type": "text"
      },
      "source": [
        "### 4-3) Stochastic Gradient Descent"
      ]
    },
    {
      "cell_type": "markdown",
      "metadata": {
        "id": "Z8VZNnrZV-Go",
        "colab_type": "text"
      },
      "source": [
        "It is stochastic gradient descent that $𝑋$ contains only one training instance selected randomly."
      ]
    },
    {
      "cell_type": "markdown",
      "metadata": {
        "id": "yMlIt_E9V-Go",
        "colab_type": "text"
      },
      "source": [
        "Initialize 𝜃 and store the training RMSE and validation RMSE for this initialized 𝜃 "
      ]
    },
    {
      "cell_type": "code",
      "metadata": {
        "id": "1r6GpI5FV-Gp",
        "colab_type": "code",
        "outputId": "5199b520-fda4-4372-9856-ee46a2546148",
        "colab": {
          "base_uri": "https://localhost:8080/",
          "height": 34
        }
      },
      "source": [
        "theta = np.random.randn(feature_num,1)\n",
        "theta_bkp = theta # back-up the theta values\n",
        "\n",
        "GD_train_rmse = []\n",
        "GD_val_rmse = []\n",
        "\n",
        "GD_batch_train_rmse = []\n",
        "GD_batch_val_rmse = []\n",
        "\n",
        "initialized_theta_train_RMSE = RMSE_calculation(np.dot(train_X_b,theta), train_y)\n",
        "initialized_theta_val_RMSE = RMSE_calculation(np.dot(test_X_b,theta), test_y)\n",
        "\n",
        "GD_train_rmse.append(initialized_theta_train_RMSE)\n",
        "GD_val_rmse.append(initialized_theta_val_RMSE)\n",
        "GD_batch_train_rmse.append(initialized_theta_train_RMSE)\n",
        "GD_batch_val_rmse.append(initialized_theta_val_RMSE)\n",
        "\n",
        "print('RMSE of the initialized theta - train_RMSE : %.2f, val_RMSE : %.2f' %(initialized_theta_train_RMSE, initialized_theta_val_RMSE))"
      ],
      "execution_count": 0,
      "outputs": [
        {
          "output_type": "stream",
          "text": [
            "RMSE of the initialized theta - train_RMSE : 237270.78, val_RMSE : 235232.93\n"
          ],
          "name": "stdout"
        }
      ]
    },
    {
      "cell_type": "markdown",
      "metadata": {
        "id": "vWJPwvrpV-Gr",
        "colab_type": "text"
      },
      "source": [
        "Execute your stochastic gradient descent algorithm.<br/>"
      ]
    },
    {
      "cell_type": "code",
      "metadata": {
        "id": "90P4RAveV-Gs",
        "colab_type": "code",
        "outputId": "24e22d90-deea-4890-ece7-2a358aac9754",
        "colab": {
          "base_uri": "https://localhost:8080/",
          "height": 102
        }
      },
      "source": [
        "######################## Q1. ##################################\n",
        "#  TO DO : Fill in the blank with your stochastic gradient descent code.\n",
        "# set the hyper-parameters as follows.\n",
        "# parameters setting : batch size = 1 , epoch = 50 , learning rate = 0.001\n",
        "batch_size = 1\n",
        "n_epoch = 50\n",
        "eta = 0.001 # learning rate\n",
        "\n",
        "for epoch in range(n_epoch):\n",
        "    \n",
        "    # shuffle\n",
        "    shuffle_indices = np.random.permutation(train_num)\n",
        "    feature_shuffled = train_X_b[shuffle_indices,:]\n",
        "    target_shuffled = train_y[shuffle_indices,:]\n",
        "    \n",
        "    for i in range(0, train_num, batch_size):\n",
        "        batch_x = feature_shuffled[i:i+batch_size,:]\n",
        "        batch_y = target_shuffled[i:i+batch_size,:]\n",
        "\n",
        "        gradient = 2.0/batch_size * np.dot(batch_x.T , np.dot(batch_x, theta) - batch_y)\n",
        "        theta = theta - eta * gradient\n",
        "        \n",
        "        # train error after batch update \n",
        "        train_batch_predictions = np.dot(train_X_b, theta)\n",
        "        train_batch_rmse = RMSE_calculation(train_y, train_batch_predictions)\n",
        "        GD_batch_train_rmse.append(train_batch_rmse)\n",
        "        \n",
        "        # test error after batch update\n",
        "        val_batch_predictions = np.dot(test_X_b, theta)\n",
        "        val_batch_rmse = RMSE_calculation(test_y, val_batch_predictions)\n",
        "        GD_batch_val_rmse.append(val_batch_rmse)\n",
        "        \n",
        "    # train error after epoch \n",
        "    GD_train_predictions = np.dot(train_X_b, theta)\n",
        "    GD_train_final_rmse = RMSE_calculation(train_y, GD_train_predictions)\n",
        "    GD_train_rmse.append(GD_train_final_rmse)\n",
        "    \n",
        "    # val error after epoch \n",
        "    GD_val_predictions = np.dot(test_X_b, theta)\n",
        "    GD_val_final_rmse = RMSE_calculation(test_y, GD_val_predictions)\n",
        "    GD_val_rmse.append(GD_val_final_rmse)\n",
        "    \n",
        "    if epoch%5 == 0:\n",
        "        print('%d번째 train_RMSE : %.2f, val_RMSE : %.2f' %(epoch, GD_train_final_rmse, GD_val_final_rmse))\n",
        "\n",
        "\n",
        "\n",
        "\n",
        "\n",
        "\n",
        "\n",
        "\n",
        "\n",
        "\n",
        "\n",
        "\n",
        "\n",
        "\n",
        "    \n",
        "    ######################## Q2. ##################################\n",
        "    \n",
        "    \n",
        "    ##############################################################\n",
        "    \n",
        "    \n",
        "    \n",
        "##############################################################"
      ],
      "execution_count": 0,
      "outputs": [
        {
          "output_type": "stream",
          "text": [
            "0번째 train_RMSE : 68341.16, val_RMSE : 74252.91\n",
            "10번째 train_RMSE : 69280.36, val_RMSE : 75436.52\n",
            "20번째 train_RMSE : 67937.66, val_RMSE : 72522.65\n",
            "30번째 train_RMSE : 68330.86, val_RMSE : 74097.85\n",
            "40번째 train_RMSE : 67821.84, val_RMSE : 72372.28\n"
          ],
          "name": "stdout"
        }
      ]
    },
    {
      "cell_type": "code",
      "metadata": {
        "id": "MuI8mlVqV-Gt",
        "colab_type": "code",
        "outputId": "80d902c2-d449-4c90-ef7a-8fbf74c8d0e1",
        "colab": {
          "base_uri": "https://localhost:8080/",
          "height": 308
        }
      },
      "source": [
        "######################## Q3. ##################################\n",
        "# TO DO : plot the learning curve of each epoch.\n",
        "plt.plot(GD_train_rmse, \"r+\", linewidth=2, label=\"train\")\n",
        "plt.plot(GD_val_rmse, \"b-\", linewidth=3, label=\"val\")\n",
        "\n",
        "plt.ylim([60000, 250000])\n",
        "plt.legend(loc='upper right')\n",
        "plt.xlabel('epoch')\n",
        "plt.ylabel('Learning curve')\n",
        "\n",
        "\n",
        "\n",
        "##############################################################"
      ],
      "execution_count": 0,
      "outputs": [
        {
          "output_type": "execute_result",
          "data": {
            "text/plain": [
              "Text(0, 0.5, 'Learning curve')"
            ]
          },
          "metadata": {
            "tags": []
          },
          "execution_count": 47
        },
        {
          "output_type": "display_data",
          "data": {
            "image/png": "[encoded data removed]",
            "text/plain": [
              "<Figure size 432x288 with 1 Axes>"
            ]
          },
          "metadata": {
            "tags": []
          }
        }
      ]
    },
    {
      "cell_type": "code",
      "metadata": {
        "id": "rZf_kr77V-Gv",
        "colab_type": "code",
        "outputId": "00059e9b-3cb7-4689-cfb4-934a5a127f04",
        "colab": {
          "base_uri": "https://localhost:8080/",
          "height": 308
        }
      },
      "source": [
        "######################## Q4. ##################################\n",
        "# TO DO : plot the learning curve of each updates.\n",
        "plt.plot(GD_batch_train_rmse, \"r+\", linewidth=2, label=\"train\")\n",
        "plt.plot(GD_batch_val_rmse, \"b-\", linewidth=3, label=\"val\")\n",
        "\n",
        "plt.ylim([60000, 250000])\n",
        "plt.xlim([0,2000])\n",
        "plt.legend(loc='upper right')\n",
        "plt.xlabel('updates')\n",
        "plt.ylabel('Learning curve')\n",
        "\n",
        "\n",
        "\n",
        "\n",
        "##############################################################"
      ],
      "execution_count": 0,
      "outputs": [
        {
          "output_type": "execute_result",
          "data": {
            "text/plain": [
              "Text(0, 0.5, 'Learning curve')"
            ]
          },
          "metadata": {
            "tags": []
          },
          "execution_count": 48
        },
        {
          "output_type": "display_data",
          "data": {
            "image/png": "[encoded data removed]",
            "text/plain": [
              "<Figure size 432x288 with 1 Axes>"
            ]
          },
          "metadata": {
            "tags": []
          }
        }
      ]
    },
    {
      "cell_type": "markdown",
      "metadata": {
        "id": "HxRZL7fSV-Gx",
        "colab_type": "text"
      },
      "source": [
        "### 4-4) Stochastic Gradient Descent using SGDRegressor"
      ]
    },
    {
      "cell_type": "markdown",
      "metadata": {
        "id": "VhDbvF58V-Gy",
        "colab_type": "text"
      },
      "source": [
        "Scikit-Learn provides a function for stochastic gradient descent, SGDRegressor().<br/>\n",
        "SGDRegressor() has 2 methods, 'fit()' and 'partial_fit()'. <br/>\n",
        "If you use 'fit()' method, you can check the RMSE after total epoches. In the case of 'partial_fit()' method, you can check the RMSE of each epoch.<br/>\n",
        "To plot the changes of RMSE depending on each epoch, please use 'partial_fit()' method.<br/>\n",
        "\n",
        "reference : https://scikit-learn.org/stable/modules/generated/sklearn.linear_model.SGDRegressor.html"
      ]
    },
    {
      "cell_type": "code",
      "metadata": {
        "id": "0z3SQhXoV-Gy",
        "colab_type": "code",
        "outputId": "d4439a25-f2b7-4407-8c31-8da40b596fe6",
        "colab": {
          "base_uri": "https://localhost:8080/",
          "height": 34
        }
      },
      "source": [
        "SGDfunc_train_rmse = []\n",
        "SGDfunc_val_rmse = []\n",
        "\n",
        "SGDfunc_initialized_theta_train_RMSE = RMSE_calculation(np.dot(train_X_b,theta_bkp), train_y)\n",
        "SGDfunc_initialized_theta_val_RMSE = RMSE_calculation(np.dot(test_X_b,theta_bkp), test_y)\n",
        "\n",
        "SGDfunc_train_rmse.append(SGDfunc_initialized_theta_train_RMSE)\n",
        "SGDfunc_val_rmse.append(SGDfunc_initialized_theta_val_RMSE)\n",
        "\n",
        "\n",
        "print('RMSE of the initialized theta - train_RMSE : %.2f, val_RMSE : %.2f' \n",
        "      %(SGDfunc_initialized_theta_train_RMSE, SGDfunc_initialized_theta_val_RMSE))"
      ],
      "execution_count": 0,
      "outputs": [
        {
          "output_type": "stream",
          "text": [
            "RMSE of the initialized theta - train_RMSE : 237270.78, val_RMSE : 235232.93\n"
          ],
          "name": "stdout"
        }
      ]
    },
    {
      "cell_type": "markdown",
      "metadata": {
        "id": "KLsSutIuV-G0",
        "colab_type": "text"
      },
      "source": [
        "Fill in the blanks with your code."
      ]
    },
    {
      "cell_type": "code",
      "metadata": {
        "scrolled": false,
        "id": "PAEs9kX0V-G1",
        "colab_type": "code",
        "outputId": "55ab1eb8-3622-461e-c83f-3f5228d68644",
        "colab": {
          "base_uri": "https://localhost:8080/",
          "height": 187
        }
      },
      "source": [
        "######################## Q1. ##################################\n",
        "#  TO DO : import SGDRegressor() function.\n",
        "from sklearn.linear_model import SGDRegressor\n",
        "\n",
        "##############################################################\n",
        "\n",
        "\n",
        "\n",
        "######################## Q2. ##################################\n",
        "# TO DO : set the number of n_epoch to 50\n",
        "n_epoch = 50\n",
        "##############################################################\n",
        "\n",
        "\n",
        "\n",
        "######################## Q3. ##################################\n",
        "# TO DO : set the parameters of SGDRegressor() as follows.\n",
        "# parameters setting : penalty='none', learning_rate='constant', eta0=0.001\n",
        "\n",
        "\n",
        "SGD_model = SGDRegressor(penalty='none', learning_rate='constant', eta0=0.001)\n",
        "##############################################################\n",
        "\n",
        "\n",
        "for epoch in range(n_epoch):   \n",
        "    ######################## Q4. ##################################\n",
        "    # TO DO : execute 'partial_fit()' method.\n",
        "    SGD_model.partial_fit(train_set_features, train_set_target)\n",
        "    ##############################################################\n",
        "    \n",
        "    # train error\n",
        "    SGD_train_predictions = SGD_model.predict(train_set_features)\n",
        "    SGD_train_final_rmse = RMSE_calculation(SGD_train_predictions, train_set_target)\n",
        "    SGDfunc_train_rmse.append(SGD_train_final_rmse)\n",
        "    \n",
        "    # val error\n",
        "    SGD_val_predictions = SGD_model.predict(test_set_features)\n",
        "    SGD_val_final_rmse = RMSE_calculation(SGD_val_predictions, test_set_target)\n",
        "    SGDfunc_val_rmse.append(SGD_val_final_rmse)\n",
        "    \n",
        "    if epoch%5 == 0:\n",
        "           print('%d번째 train_RMSE : %.2f, val_RMSE : %.2f' %(epoch, SGD_train_final_rmse, SGD_val_final_rmse))\n",
        "\n",
        "    # command to hide the warning box\n",
        "    import warnings\n",
        "    warnings.filterwarnings(action = 'ignore')\n",
        "    "
      ],
      "execution_count": 0,
      "outputs": [
        {
          "output_type": "stream",
          "text": [
            "0번째 train_RMSE : 68299.13, val_RMSE : 72894.49\n",
            "5번째 train_RMSE : 68005.30, val_RMSE : 71689.75\n",
            "10번째 train_RMSE : 68013.86, val_RMSE : 72308.55\n",
            "15번째 train_RMSE : 67991.12, val_RMSE : 72179.23\n",
            "20번째 train_RMSE : 67906.50, val_RMSE : 73112.08\n",
            "25번째 train_RMSE : 67865.59, val_RMSE : 72399.64\n",
            "30번째 train_RMSE : 68035.15, val_RMSE : 71649.60\n",
            "35번째 train_RMSE : 68003.90, val_RMSE : 72658.02\n",
            "40번째 train_RMSE : 67768.32, val_RMSE : 73061.50\n",
            "45번째 train_RMSE : 67865.49, val_RMSE : 73126.94\n"
          ],
          "name": "stdout"
        }
      ]
    },
    {
      "cell_type": "code",
      "metadata": {
        "id": "GH99fDryV-G3",
        "colab_type": "code",
        "outputId": "c8d2be19-6649-4b41-8d57-8bdc6c315497",
        "colab": {
          "base_uri": "https://localhost:8080/",
          "height": 308
        }
      },
      "source": [
        "######################## Q5. ##################################\n",
        "# TO DO : plot the learning curve as epoch changes.\n",
        "plt.plot(GD_train_rmse, \"r+\", linewidth=2, label=\"train\")\n",
        "plt.plot(GD_val_rmse, \"b-\", linewidth=3, label=\"val\")\n",
        "\n",
        "plt.ylim([60000, 250000])\n",
        "plt.legend(loc='upper right')\n",
        "plt.xlabel('epoch')\n",
        "plt.ylabel('Learning Curve')\n",
        "\n",
        "\n",
        "\n",
        "##############################################################"
      ],
      "execution_count": 0,
      "outputs": [
        {
          "output_type": "execute_result",
          "data": {
            "text/plain": [
              "Text(0, 0.5, 'Learning Curve')"
            ]
          },
          "metadata": {
            "tags": []
          },
          "execution_count": 53
        },
        {
          "output_type": "display_data",
          "data": {
            "image/png": "[encoded data removed]",
            "text/plain": [
              "<Figure size 432x288 with 1 Axes>"
            ]
          },
          "metadata": {
            "tags": []
          }
        }
      ]
    },
    {
      "cell_type": "code",
      "metadata": {
        "id": "jESati1tbPBm",
        "colab_type": "code",
        "colab": {}
      },
      "source": [
        ""
      ],
      "execution_count": 0,
      "outputs": []
    }
  ]
}